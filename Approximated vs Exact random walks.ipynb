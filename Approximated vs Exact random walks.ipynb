{
 "cells": [
  {
   "cell_type": "code",
   "execution_count": 1,
   "metadata": {},
   "outputs": [],
   "source": [
    "from ensmallen_graph.datasets.networkrepository import WebSk2005All"
   ]
  },
  {
   "cell_type": "code",
   "execution_count": 2,
   "metadata": {},
   "outputs": [
    {
     "data": {
      "application/vnd.jupyter.widget-view+json": {
       "model_id": "",
       "version_major": 2,
       "version_minor": 0
      },
      "text/plain": [
       "HBox(children=(HTML(value='Downloading to graphs/networkre...b-sk-2005-all.zip'), FloatProgress(value=0.0, lay…"
      ]
     },
     "metadata": {},
     "output_type": "display_data"
    }
   ],
   "source": [
    "graph = WebSk2005All()"
   ]
  },
  {
   "cell_type": "code",
   "execution_count": 4,
   "metadata": {},
   "outputs": [
    {
     "data": {
      "text/html": [
       "<h4>WebSk2005All</h4><p style=\"text-align: justify; text-justify: inter-word;\">The undirected graph WebSk2005All has 50636073 nodes, of which 14 are singletons (all have self-loops), and 1829182983 unweighted edges, of which 19119653 are self-loops. The graph is extremely sparse as it has a density of 0.00000 and has 45 connected components, where the component with most nodes has 50634118 nodes and the component with the least nodes has a single node. The graph median node degree is 30, the mean node degree is 71.87, and the node degree mode is 1. The top 5 most central nodes are 42265166 (degree 8563817), 17866473 (degree 2874442), 29511208 (degree 2466089), 50284701 (degree 1582409) and 48932213 (degree 1367113).</p>"
      ],
      "text/plain": [
       "The undirected graph WebSk2005All has 50636073 nodes, of which 14 are singletons (all have self-loops), and 1829182983 unweighted edges, of which 19119653 are self-loops. The graph is extremely sparse as it has a density of 0.00000 and has 45 connected components, where the component with most nodes has 50634118 nodes and the component with the least nodes has a single node. The graph median node degree is 30, the mean node degree is 71.87, and the node degree mode is 1. The top 5 most central nodes are 42265166 (degree 8563817), 17866473 (degree 2874442), 29511208 (degree 2466089), 50284701 (degree 1582409) and 48932213 (degree 1367113)."
      ]
     },
     "execution_count": 4,
     "metadata": {},
     "output_type": "execute_result"
    }
   ],
   "source": [
    "graph"
   ]
  },
  {
   "cell_type": "code",
   "execution_count": 77,
   "metadata": {},
   "outputs": [],
   "source": [
    "exact_parameters = dict(\n",
    "    length=100,\n",
    "    quantity=100,\n",
    "    return_weight=2,\n",
    "    explore_weight=2\n",
    ")\n",
    "approximated_parameters = dict(\n",
    "    **exact_parameters,\n",
    "    max_neighbours=100\n",
    ")"
   ]
  },
  {
   "cell_type": "code",
   "execution_count": 78,
   "metadata": {},
   "outputs": [],
   "source": [
    "from random import randint"
   ]
  },
  {
   "cell_type": "code",
   "execution_count": 79,
   "metadata": {},
   "outputs": [
    {
     "name": "stdout",
     "output_type": "stream",
     "text": [
      "CPU times: user 4.72 ms, sys: 22.3 ms, total: 27 ms\n",
      "Wall time: 27.3 ms\n"
     ]
    }
   ],
   "source": [
    "%%time\n",
    "graph.disable_all()"
   ]
  },
  {
   "cell_type": "code",
   "execution_count": 80,
   "metadata": {},
   "outputs": [
    {
     "name": "stdout",
     "output_type": "stream",
     "text": [
      "4.06 s ± 733 ms per loop (mean ± std. dev. of 7 runs, 1 loop each)\n"
     ]
    }
   ],
   "source": [
    "%%timeit\n",
    "graph.random_walks(**exact_parameters, random_state=randint(10000, 10000000))"
   ]
  },
  {
   "cell_type": "code",
   "execution_count": 81,
   "metadata": {},
   "outputs": [
    {
     "name": "stdout",
     "output_type": "stream",
     "text": [
      "3.19 ms ± 46.2 µs per loop (mean ± std. dev. of 7 runs, 100 loops each)\n"
     ]
    }
   ],
   "source": [
    "%%timeit\n",
    "graph.random_walks(**approximated_parameters, random_state=randint(10000, 10000000))"
   ]
  },
  {
   "cell_type": "code",
   "execution_count": 82,
   "metadata": {},
   "outputs": [
    {
     "name": "stdout",
     "output_type": "stream",
     "text": [
      "CPU times: user 20min 45s, sys: 42.1 s, total: 21min 27s\n",
      "Wall time: 10.6 s\n"
     ]
    }
   ],
   "source": [
    "%%time\n",
    "graph.enable(\n",
    "    vector_destinations=True,\n",
    "    vector_outbounds=True\n",
    ")"
   ]
  },
  {
   "cell_type": "code",
   "execution_count": 83,
   "metadata": {},
   "outputs": [
    {
     "name": "stdout",
     "output_type": "stream",
     "text": [
      "185 ms ± 21.4 ms per loop (mean ± std. dev. of 7 runs, 10 loops each)\n"
     ]
    }
   ],
   "source": [
    "%%timeit\n",
    "graph.random_walks(**exact_parameters, random_state=randint(10000, 10000000))"
   ]
  },
  {
   "cell_type": "code",
   "execution_count": 84,
   "metadata": {},
   "outputs": [
    {
     "name": "stdout",
     "output_type": "stream",
     "text": [
      "1.24 ms ± 25.7 µs per loop (mean ± std. dev. of 7 runs, 1000 loops each)\n"
     ]
    }
   ],
   "source": [
    "%%timeit\n",
    "graph.random_walks(**approximated_parameters, random_state=randint(10000, 10000000))"
   ]
  }
 ],
 "metadata": {
  "kernelspec": {
   "display_name": "Python 3",
   "language": "python",
   "name": "python3"
  },
  "language_info": {
   "codemirror_mode": {
    "name": "ipython",
    "version": 3
   },
   "file_extension": ".py",
   "mimetype": "text/x-python",
   "name": "python",
   "nbconvert_exporter": "python",
   "pygments_lexer": "ipython3",
   "version": "3.6.9"
  }
 },
 "nbformat": 4,
 "nbformat_minor": 4
}
