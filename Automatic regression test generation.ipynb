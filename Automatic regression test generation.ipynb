{
 "cells": [
  {
   "cell_type": "code",
   "execution_count": 1,
   "metadata": {},
   "outputs": [],
   "source": [
    "from typing import Dict\n",
    "import os\n",
    "from glob import glob\n",
    "from tqdm.auto import tqdm\n",
    "import pandas as pd"
   ]
  },
  {
   "cell_type": "code",
   "execution_count": 2,
   "metadata": {},
   "outputs": [],
   "source": [
    "edge_reader_model = \"\"\"let edges_reader = EdgeFileReader::new(\"{target_path}\")?\n",
    "        .set_rows_to_skip({rows_to_skip})\n",
    "        .set_header({header})\n",
    "        .set_separator(\"{separator}\")?\n",
    "        .set_verbose({verbose})\n",
    "        .set_max_rows_number({max_rows_number})\n",
    "        .set_sources_column(\"{sources_column}\")?\n",
    "        .set_sources_column_number({sources_column_number})?\n",
    "        .set_destinations_column(\"{destinations_column}\")?\n",
    "        .set_destinations_column_number({destinations_column_number})?\n",
    "        .set_weights_column(\"{weights_column}\")?\n",
    "        .set_weights_column_number({weights_column_number})?\n",
    "        .set_default_weight({default_weight})\n",
    "        .set_ignore_duplicates({ignore_duplicates})\n",
    "        .set_default_edge_type(\"{default_edge_type}\"))\n",
    "        .set_edge_types_column(\"{edge_types_column}\")?\n",
    "        .set_edge_types_column_number({edge_types_column_number})?\"\"\""
   ]
  },
  {
   "cell_type": "code",
   "execution_count": 3,
   "metadata": {},
   "outputs": [],
   "source": [
    "node_reader_model = \"\"\"let nodes_reader = Some(NodeFileReader::new(\"{target_path}\")?\n",
    "        .set_rows_to_skip({rows_to_skip})\n",
    "        .set_separator(\"{separator}\")?\n",
    "        .set_header({header})\n",
    "        .set_verbose({verbose})\n",
    "        .set_ignore_duplicates({ignore_duplicates})\n",
    "        .set_default_node_type(\"{default_node_type}\")\n",
    "        .set_nodes_column(\"{nodes_column}\")?\n",
    "        .set_nodes_column_number({nodes_column_number})\n",
    "        .set_node_types_column(\"{node_types_column}\")?\n",
    "        .set_node_types_column_number({node_types_column_number}))\"\"\""
   ]
  },
  {
   "cell_type": "code",
   "execution_count": 4,
   "metadata": {},
   "outputs": [],
   "source": [
    "default_node_reader_model = \"\"\"let nodes_reader = None;\"\"\""
   ]
  },
  {
   "cell_type": "code",
   "execution_count": 5,
   "metadata": {},
   "outputs": [],
   "source": [
    "regression_test_model = \"\"\"extern crate graph;\n",
    "\n",
    "use graph::{{EdgeFileReader, Graph, NodeFileReader}};\n",
    "\n",
    "#[test]\n",
    "/// This is a regression test that has been automatically generated\n",
    "/// by the fuzzer harness.\n",
    "/// The test originally caused a panic in the file {filename},\n",
    "/// specifically (at the time) line {line_number} and column {column_number}.\n",
    "///\n",
    "fn test_regression_number_{current_test_id}() -> Result<(), String> {{\n",
    "    {edges_reader}\n",
    "\n",
    "    {nodes_reader}\n",
    "\n",
    "    let mut graph = Graph::from_unsorted_csv(\n",
    "        edges_reader,\n",
    "        nodes_reader,\n",
    "        {directed}, // Directed\n",
    "        {directed_edge_list}, // Directed edge list\n",
    "        \"Graph\",\n",
    "    )?;\n",
    "    let _ = graph::test_utilities::default_test_suite(&mut graph, false);\n",
    "    Ok(())\n",
    "}}\n",
    "\"\"\""
   ]
  },
  {
   "cell_type": "code",
   "execution_count": 6,
   "metadata": {},
   "outputs": [],
   "source": [
    "def load_metadata(path:str)->Dict:\n",
    "    return pd.read_csv(\n",
    "        path,\n",
    "        sep=\",\",\n",
    "        header=None,\n",
    "        index_col=0,\n",
    "        dtype=str\n",
    "    ).to_dict()[1]\n",
    "\n",
    "def format_constructor(model, metadata_path, current_test_id, list_type) -> str:\n",
    "    if list_type not in (\"edges\", \"nodes\"):\n",
    "        raise ValueError(\"Given list type is not supported!\")\n",
    "    \n",
    "    # Move the new test edge list\n",
    "    target_path = os.path.join(\n",
    "        \"tests/data/regression/\"\n",
    "        \"{}.{}\".format(current_test_id, list_type)\n",
    "    )\n",
    "    \n",
    "    file_metadata = load_metadata(\n",
    "        metadata_path\n",
    "    )\n",
    "    \n",
    "    # Remove all None values\n",
    "    simplified_model = \"\\n\".join([\n",
    "        line\n",
    "        for line in model.split(\"\\n\")\n",
    "        if all(\n",
    "            \"set_{}\".format(param) not in line\n",
    "            for param, value in file_metadata.items()\n",
    "            if value == \"None\"\n",
    "        )\n",
    "    ]) + \";\"\n",
    "        \n",
    "    return simplified_model.format(\n",
    "        target_path=target_path,\n",
    "        **file_metadata\n",
    "    ), target_path, file_metadata"
   ]
  },
  {
   "cell_type": "code",
   "execution_count": 8,
   "metadata": {},
   "outputs": [
    {
     "data": {
      "application/vnd.jupyter.widget-view+json": {
       "model_id": "3e26a8083d774d218db94860581470f5",
       "version_major": 2,
       "version_minor": 0
      },
      "text/plain": [
       "Building regression tests:   0%|          | 0/1 [00:00<?, ?it/s]"
      ]
     },
     "metadata": {},
     "output_type": "display_data"
    }
   ],
   "source": [
    "for test_directory in tqdm(\n",
    "    glob(\"fuzzing/unit_tests/*\"),\n",
    "    desc=\"Building regression tests\"\n",
    "):\n",
    "    data_paths = sorted(glob(os.path.join(test_directory, \"*.csv\")))\n",
    "    edges_path = data_paths[0]\n",
    "    edges_metadata_path = data_paths[1]\n",
    "    graph_metadata = load_metadata(data_paths[2])\n",
    "    panic_metadata = load_metadata(data_paths[3])\n",
    "    \n",
    "    has_node_file = len(data_paths) == 6\n",
    "    \n",
    "    current_test_id = max([\n",
    "        int(test_name.split(\".\")[0])\n",
    "        for test_name in os.listdir(\"graph/tests/data/regression\")\n",
    "    ]) + 1\n",
    "    \n",
    "    if has_node_file:\n",
    "        nodes_path = data_paths[4]\n",
    "        nodes_metadata_path = data_paths[5]\n",
    "        node_reader, target_node_path, _ = format_constructor(\n",
    "            node_reader_model,\n",
    "            nodes_metadata_path,\n",
    "            current_test_id,\n",
    "            \"nodes\"\n",
    "        )\n",
    "        os.rename(\n",
    "            nodes_path,\n",
    "            os.path.join(\n",
    "                \"graph\",\n",
    "                target_node_path\n",
    "            )\n",
    "        )\n",
    "    else:\n",
    "        nodes_reader = default_node_reader_model\n",
    "\n",
    "    edges_reader, target_edge_path, metadata = format_constructor(\n",
    "        edge_reader_model,\n",
    "        edges_metadata_path,\n",
    "        current_test_id,\n",
    "        \"edges\"\n",
    "    )\n",
    "\n",
    "    os.rename(\n",
    "        edges_path,\n",
    "        os.path.join(\n",
    "            \"graph\",\n",
    "            target_edge_path\n",
    "        )\n",
    "    )\n",
    "        \n",
    "    regression_test = regression_test_model.format(\n",
    "        edges_reader=edges_reader,\n",
    "        nodes_reader=nodes_reader,\n",
    "        current_test_id=current_test_id,\n",
    "        filename=panic_metadata[\"file\"].split(os.sep)[-1],\n",
    "        line_number=panic_metadata[\"line\"],\n",
    "        column_number=panic_metadata[\"col\"],\n",
    "        **graph_metadata\n",
    "    )\n",
    "    \n",
    "    with open(\"graph/tests/test_regression_{}.rs\".format(current_test_id), \"w\") as f:\n",
    "        f.write(regression_test)"
   ]
  }
 ],
 "metadata": {
  "kernelspec": {
   "display_name": "Python 3",
   "language": "python",
   "name": "python3"
  },
  "language_info": {
   "codemirror_mode": {
    "name": "ipython",
    "version": 3
   },
   "file_extension": ".py",
   "mimetype": "text/x-python",
   "name": "python",
   "nbconvert_exporter": "python",
   "pygments_lexer": "ipython3",
   "version": "3.7.6"
  }
 },
 "nbformat": 4,
 "nbformat_minor": 4
}
