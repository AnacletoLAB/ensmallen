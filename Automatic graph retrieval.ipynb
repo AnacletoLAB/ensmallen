{
 "cells": [
  {
   "cell_type": "code",
   "execution_count": 1,
   "metadata": {},
   "outputs": [],
   "source": [
    "import multiprocessing\n",
    "import platform\n",
    "\n",
    "if platform.system() == \"Darwin\":\n",
    "    multiprocessing.set_start_method('spawn')"
   ]
  },
  {
   "cell_type": "code",
   "execution_count": 2,
   "metadata": {},
   "outputs": [],
   "source": [
    "from ensmallen_graph import StringPPI, EnsmallenGraph, KGCOVID19"
   ]
  },
  {
   "cell_type": "code",
   "execution_count": 3,
   "metadata": {},
   "outputs": [
    {
     "data": {
      "application/vnd.jupyter.widget-view+json": {
       "model_id": "",
       "version_major": 2,
       "version_minor": 0
      },
      "text/plain": [
       "HBox(children=(FloatProgress(value=1.0, bar_style='info', description='Downloading files', layout=Layout(flex=…"
      ]
     },
     "metadata": {},
     "output_type": "display_data"
    },
    {
     "name": "stdout",
     "output_type": "stream",
     "text": [
      "\r"
     ]
    },
    {
     "data": {
      "text/html": [
       "<p style=\"text-align: justify; text-justify: inter-word;\">The undirected multigraph StringPPI has 16073 nodes and 1019847 weighted edges with 7 different edge types:  the 5 most common are binding, reaction, catalysis, activation and inhibition, of which none are self-loops and 950618 are parallel. The graph is sparse as it has a density of 0.00422 and has 23 connected components, where the component with most nodes has 16025 nodes and the component with the least nodes has 2 nodes. The graph median node degree is 36, the mean node degree is 126.90 and the node degree mode is 1. The top 5 most central nodes are 9606.ENSP00000272317 (degree 4208), 9606.ENSP00000388107 (degree 4107), 9606.ENSP00000304697 (degree 3344), 9606.ENSP00000441543 (degree 3341) and 9606.ENSP00000377086 (degree 2715).</p>"
      ],
      "text/plain": [
       "The undirected multigraph StringPPI has 16073 nodes and 1019847 weighted edges with 7 different edge types:  the 5 most common are binding, reaction, catalysis, activation and inhibition, of which none are self-loops and 950618 are parallel. The graph is sparse as it has a density of 0.00422 and has 23 connected components, where the component with most nodes has 16025 nodes and the component with the least nodes has 2 nodes. The graph median node degree is 36, the mean node degree is 126.90 and the node degree mode is 1. The top 5 most central nodes are 9606.ENSP00000272317 (degree 4208), 9606.ENSP00000388107 (degree 4107), 9606.ENSP00000304697 (degree 3344), 9606.ENSP00000441543 (degree 3341) and 9606.ENSP00000377086 (degree 2715)."
      ]
     },
     "execution_count": 3,
     "metadata": {},
     "output_type": "execute_result"
    }
   ],
   "source": [
    "StringPPI()"
   ]
  },
  {
   "cell_type": "code",
   "execution_count": 4,
   "metadata": {},
   "outputs": [
    {
     "data": {
      "application/vnd.jupyter.widget-view+json": {
       "model_id": "",
       "version_major": 2,
       "version_minor": 0
      },
      "text/plain": [
       "HBox(children=(FloatProgress(value=1.0, bar_style='info', description='Downloading files', layout=Layout(flex=…"
      ]
     },
     "metadata": {},
     "output_type": "display_data"
    },
    {
     "name": "stdout",
     "output_type": "stream",
     "text": [
      "\r"
     ]
    },
    {
     "data": {
      "text/html": [
       "<p style=\"text-align: justify; text-justify: inter-word;\">The undirected multigraph KG-COVID19 has 381482 nodes with 43 different node types:  the 5 most common are biolink:Publication (nodes number 129930), biolink:OntologyClass (nodes number 48903), biolink:Drug (nodes number 32140), biolink:ChemicalSubstance (nodes number 27438) and biolink:Disease (nodes number 24354), of which 8724 are singletons (41 of these have self-loops), and 15485884 unweighted edges with 34 different edge types:  the 5 most common are biolink:related_to, biolink:interacts_with, biolink:subclass_of, biolink:part_of and biolink:enables, of which 503 are self-loops and 2753 are parallel. The graph is quite sparse as it has a density of 0.00021 and has 9444 connected components, where the component with most nodes has 369091 nodes and the component with the least nodes has a single node. The graph median node degree is 6, the mean node degree is 81.19 and the node degree mode is 1. The top 5 most central nodes are MESH:D014780 (degree 90378), MESH:D006801 (degree 78249), WD:Q30 (degree 65223), MESH:D014777 (degree 54155) and MESH:D017934 (degree 45196).</p>"
      ],
      "text/plain": [
       "The undirected multigraph KG-COVID19 has 381482 nodes with 43 different node types:  the 5 most common are biolink:Publication (nodes number 129930), biolink:OntologyClass (nodes number 48903), biolink:Drug (nodes number 32140), biolink:ChemicalSubstance (nodes number 27438) and biolink:Disease (nodes number 24354), of which 8724 are singletons (41 of these have self-loops), and 15485884 unweighted edges with 34 different edge types:  the 5 most common are biolink:related_to, biolink:interacts_with, biolink:subclass_of, biolink:part_of and biolink:enables, of which 503 are self-loops and 2753 are parallel. The graph is quite sparse as it has a density of 0.00021 and has 9444 connected components, where the component with most nodes has 369091 nodes and the component with the least nodes has a single node. The graph median node degree is 6, the mean node degree is 81.19 and the node degree mode is 1. The top 5 most central nodes are MESH:D014780 (degree 90378), MESH:D006801 (degree 78249), WD:Q30 (degree 65223), MESH:D014777 (degree 54155) and MESH:D017934 (degree 45196)."
      ]
     },
     "execution_count": 4,
     "metadata": {},
     "output_type": "execute_result"
    }
   ],
   "source": [
    "KGCOVID19()"
   ]
  }
 ],
 "metadata": {
  "kernelspec": {
   "display_name": "Python 3",
   "language": "python",
   "name": "python3"
  },
  "language_info": {
   "codemirror_mode": {
    "name": "ipython",
    "version": 3
   },
   "file_extension": ".py",
   "mimetype": "text/x-python",
   "name": "python",
   "nbconvert_exporter": "python",
   "pygments_lexer": "ipython3",
   "version": "3.7.6"
  }
 },
 "nbformat": 4,
 "nbformat_minor": 4
}
