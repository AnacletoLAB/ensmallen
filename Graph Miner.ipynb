{
 "cells": [
  {
   "cell_type": "code",
   "execution_count": 1,
   "metadata": {},
   "outputs": [],
   "source": [
    "from tqdm.auto import tqdm\n",
    "from graph_miner import (\n",
    "    StringGraphRepository,\n",
    "    NetworkRepositoryGraphRepository,\n",
    "    KGHubGraphRepository,\n",
    "    YueGraphRepository,\n",
    "    LINQSGraphRepository\n",
    ")\n",
    "\n",
    "repositories = [\n",
    "    #StringGraphRepository(),\n",
    "    #NetworkRepositoryGraphRepository(),\n",
    "    #KGHubGraphRepository(),\n",
    "    YueGraphRepository(),\n",
    "    LINQSGraphRepository()\n",
    "]"
   ]
  },
  {
   "cell_type": "code",
   "execution_count": 2,
   "metadata": {
    "scrolled": false
   },
   "outputs": [
    {
     "data": {
      "application/vnd.jupyter.widget-view+json": {
       "model_id": "f4f537c6b1f44f088f3d522e34efb8ea",
       "version_major": 2,
       "version_minor": 0
      },
      "text/plain": [
       "HBox(children=(HTML(value='Retrieving from repositories'), FloatProgress(value=0.0, max=2.0), HTML(value='')))"
      ]
     },
     "metadata": {},
     "output_type": "display_data"
    },
    {
     "data": {
      "application/vnd.jupyter.widget-view+json": {
       "model_id": "2985c6d7a60e489eb19694738e78b457",
       "version_major": 2,
       "version_minor": 0
      },
      "text/plain": [
       "HBox(children=(HTML(value='Retrieving graphs for YueGraphRepository'), FloatProgress(value=0.0, max=3.0), HTML…"
      ]
     },
     "metadata": {},
     "output_type": "display_data"
    },
    {
     "data": {
      "application/vnd.jupyter.widget-view+json": {
       "model_id": "",
       "version_major": 2,
       "version_minor": 0
      },
      "text/plain": [
       "HBox(children=(HTML(value='Downloading files'), FloatProgress(value=0.0, layout=Layout(flex='2'), max=2.0), HT…"
      ]
     },
     "metadata": {},
     "output_type": "display_data"
    },
    {
     "data": {
      "application/vnd.jupyter.widget-view+json": {
       "model_id": "",
       "version_major": 2,
       "version_minor": 0
      },
      "text/plain": [
       "HBox(children=(HTML(value='Downloading to yue/Mashup_PPI.edgelist'), FloatProgress(value=0.0, layout=Layout(fl…"
      ]
     },
     "metadata": {},
     "output_type": "display_data"
    },
    {
     "data": {
      "application/vnd.jupyter.widget-view+json": {
       "model_id": "",
       "version_major": 2,
       "version_minor": 0
      },
      "text/plain": [
       "HBox(children=(HTML(value='Downloading to yue/Mashup_PPI_labels.txt'), FloatProgress(value=0.0, layout=Layout(…"
      ]
     },
     "metadata": {},
     "output_type": "display_data"
    },
    {
     "name": "stdout",
     "output_type": "stream",
     "text": [
      "\n"
     ]
    },
    {
     "ename": "ValueError",
     "evalue": "The given set of values is not dense. Found the tuple k:16362 v:16362 which has index bigger than the number of elements in the map 16143.",
     "output_type": "error",
     "traceback": [
      "\u001b[0;31m---------------------------------------------------------------------------\u001b[0m",
      "\u001b[0;31mValueError\u001b[0m                                Traceback (most recent call last)",
      "\u001b[0;32m<ipython-input-2-aa750f84bc3a>\u001b[0m in \u001b[0;36m<module>\u001b[0;34m\u001b[0m\n\u001b[1;32m      3\u001b[0m     \u001b[0mdesc\u001b[0m\u001b[0;34m=\u001b[0m\u001b[0;34m\"Retrieving from repositories\"\u001b[0m\u001b[0;34m\u001b[0m\u001b[0;34m\u001b[0m\u001b[0m\n\u001b[1;32m      4\u001b[0m ):\n\u001b[0;32m----> 5\u001b[0;31m     \u001b[0mrepository\u001b[0m\u001b[0;34m.\u001b[0m\u001b[0mretrieve_all\u001b[0m\u001b[0;34m(\u001b[0m\u001b[0;34m)\u001b[0m\u001b[0;34m\u001b[0m\u001b[0;34m\u001b[0m\u001b[0m\n\u001b[0m\u001b[1;32m      6\u001b[0m     \u001b[0mrepository\u001b[0m\u001b[0;34m.\u001b[0m\u001b[0mbuild_all\u001b[0m\u001b[0;34m(\u001b[0m\u001b[0;34m)\u001b[0m\u001b[0;34m\u001b[0m\u001b[0;34m\u001b[0m\u001b[0m\n",
      "\u001b[0;32m/io/ensmallen_graph/graph_miner/repositories/graph_repository.py\u001b[0m in \u001b[0;36mretrieve_all\u001b[0;34m(self)\u001b[0m\n\u001b[1;32m    660\u001b[0m                 \u001b[0;32mcontinue\u001b[0m\u001b[0;34m\u001b[0m\u001b[0;34m\u001b[0m\u001b[0m\n\u001b[1;32m    661\u001b[0m             graph: EnsmallenGraph = EnsmallenGraph.from_unsorted_csv(\n\u001b[0;32m--> 662\u001b[0;31m                 \u001b[0;34m**\u001b[0m\u001b[0marguments\u001b[0m\u001b[0;34m\u001b[0m\u001b[0;34m\u001b[0m\u001b[0m\n\u001b[0m\u001b[1;32m    663\u001b[0m             )\n\u001b[1;32m    664\u001b[0m             self.dump_graph_report(\n",
      "\u001b[0;31mValueError\u001b[0m: The given set of values is not dense. Found the tuple k:16362 v:16362 which has index bigger than the number of elements in the map 16143."
     ]
    }
   ],
   "source": [
    "for repository in tqdm(\n",
    "    repositories,\n",
    "    desc=\"Retrieving from repositories\"\n",
    "):\n",
    "    repository.retrieve_all()\n",
    "    repository.build_all()"
   ]
  },
  {
   "cell_type": "code",
   "execution_count": 5,
   "metadata": {},
   "outputs": [
    {
     "data": {
      "text/plain": [
       "{'graph_name': 'Cora',\n",
       " 'graph_method_name': 'Cora',\n",
       " 'graph_textual_report': 'The undirected graph Cora has 4141 nodes with 8 different node types:  the 5 most common are Word (nodes number 1433), Neural_Networks (nodes number 818), Probabilistic_Methods (nodes number 426), Genetic_Algorithms (nodes number 418) and Theory (nodes number 351), of which 1 are singletons, and 54494 unweighted edges with 2 different edge types: Paper2Word and Paper2Paper, of which none are self-loops. The graph is sparse as it has a density of 0.00636 and has 2 connected components, where the component with most nodes has 4140 nodes and the component with the least nodes has a single node. The graph median node degree is 22, the mean node degree is 26.32, and the node degree mode is 24. The top 5 most central nodes are word_1177 (degree 1083), word_1263 (degree 980), word_507 (degree 676), word_1209 (degree 584) and word_19 (degree 560).',\n",
       " 'graph_json_report': {'unique_node_types_number': '8',\n",
       "  'has_node_types': 'true',\n",
       "  'undirected_edges_number': '54494',\n",
       "  'name': 'Cora',\n",
       "  'self_loops_rate': '0',\n",
       "  'nodes_number': '4141',\n",
       "  'self_loops_number': '0',\n",
       "  'max_degree': '1083',\n",
       "  'edges_number': '108988',\n",
       "  'unique_edge_types_number': '2',\n",
       "  'density': '0.006357305932077831',\n",
       "  'directed': 'false',\n",
       "  'degree_mean': '26.31924655880222',\n",
       "  'has_weights': 'false',\n",
       "  'singletons': '1',\n",
       "  'has_edge_types': 'true',\n",
       "  'min_degree': '0'},\n",
       " 'citations': ['@incollection{getoor2005link,\\n  title={Link-based classification},\\n  author={Getoor, Lise},\\n  booktitle={Advanced methods for knowledge discovery from complex data},\\n  pages={189--207},\\n  year={2005},\\n  publisher={Springer}\\n}',\n",
       "  '@article{sen2008collective,\\n  title={Collective classification in network data},\\n  author={Sen, Prithviraj and Namata, Galileo and Bilgic, Mustafa and Getoor, Lise and Galligher, Brian and Eliassi-Rad, Tina},\\n  journal={AI magazine},\\n  volume={29},\\n  number={3},\\n  pages={93--93},\\n  year={2008}\\n}'],\n",
       " 'urls': ['https://linqs-data.soe.ucsc.edu/public/lbc/cora.tgz'],\n",
       " 'paths': ['linqs/cora.tgz'],\n",
       " 'datetime': '2021-02-13 10:41:51.046804',\n",
       " 'arguments': {'name': 'Cora',\n",
       "  'edge_path': 'linqs/cora/edges.tsv',\n",
       "  'node_path': 'linqs/cora/nodes.tsv',\n",
       "  'edge_separator': '\\t',\n",
       "  'node_separator': '\\t',\n",
       "  'edge_rows_to_skip': 0,\n",
       "  'edge_file_comment_symbol': None,\n",
       "  'node_file_comment_symbol': None,\n",
       "  'directed': False,\n",
       "  'sources_column': 'subject',\n",
       "  'destinations_column': 'object',\n",
       "  'weights_column': 'weight',\n",
       "  'default_weight': 1,\n",
       "  'edge_types_column': 'edge_type',\n",
       "  'node_types_column': 'node_type',\n",
       "  'nodes_column': 'id',\n",
       "  'skip_weights_if_unavailable': True}}"
      ]
     },
     "execution_count": 5,
     "metadata": {},
     "output_type": "execute_result"
    }
   ],
   "source": [
    "import compress_json\n",
    "compress_json.load(\"graph_miner/repositories/linqs/reports/Cora.json.gz\")"
   ]
  },
  {
   "cell_type": "code",
   "execution_count": 1,
   "metadata": {},
   "outputs": [
    {
     "data": {
      "text/plain": [
       "'web-wikipedia-growth'"
      ]
     },
     "execution_count": 1,
     "metadata": {},
     "output_type": "execute_result"
    }
   ],
   "source": [
    "import compress_json\n",
    "import os\n",
    "last_graph_name = [\n",
    "    file_name\n",
    "    for file_name in os.listdir(\"networkrepository\")\n",
    "    if os.path.isdir(f\"networkrepository/{file_name}\")\n",
    "][0]\n",
    "last_graph_name"
   ]
  },
  {
   "cell_type": "code",
   "execution_count": 11,
   "metadata": {},
   "outputs": [],
   "source": [
    "# ADDING TO CORRUPTED GRAPH SET!\n",
    "path = \"graph_miner/repositories/corrupted_graphs/NetworkRepositoryGraphRepository.json.gz\"\n",
    "errored = compress_json.load(path)\n",
    "errored.append(last_graph_name)\n",
    "compress_json.dump(list(set(errored)), path)"
   ]
  },
  {
   "cell_type": "code",
   "execution_count": 9,
   "metadata": {},
   "outputs": [],
   "source": [
    "# REMOVING FROM CORRUPTED GRAPH SET!\n",
    "path = \"graph_miner/repositories/corrupted_graphs/NetworkRepositoryGraphRepository.json.gz\"\n",
    "errored = compress_json.load(path)\n",
    "errored.pop(errored.index(last_graph_name))\n",
    "compress_json.dump(list(set(errored)), path)"
   ]
  },
  {
   "cell_type": "code",
   "execution_count": 2,
   "metadata": {},
   "outputs": [],
   "source": [
    "# ADDING TO UNSUPPORTED GRAPH SET!\n",
    "path = \"graph_miner/repositories/unsupported_graphs/NetworkRepositoryGraphRepository.json.gz\"\n",
    "unsupported = compress_json.load(path)\n",
    "unsupported.append(last_graph_name)\n",
    "compress_json.dump(list(set(unsupported)), path)"
   ]
  },
  {
   "cell_type": "code",
   "execution_count": null,
   "metadata": {},
   "outputs": [],
   "source": []
  }
 ],
 "metadata": {
  "kernelspec": {
   "display_name": "Python 3",
   "language": "python",
   "name": "python3"
  },
  "language_info": {
   "codemirror_mode": {
    "name": "ipython",
    "version": 3
   },
   "file_extension": ".py",
   "mimetype": "text/x-python",
   "name": "python",
   "nbconvert_exporter": "python",
   "pygments_lexer": "ipython3",
   "version": "3.6.9"
  }
 },
 "nbformat": 4,
 "nbformat_minor": 4
}
