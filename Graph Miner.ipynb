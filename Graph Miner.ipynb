{
 "cells": [
  {
   "cell_type": "code",
   "execution_count": 1,
   "metadata": {},
   "outputs": [],
   "source": [
    "from tqdm.auto import tqdm\n",
    "from graph_miner import (\n",
    "    StringGraphRepository,\n",
    "    NetworkRepositoryGraphRepository,\n",
    "    KGHubGraphRepository,\n",
    "    YueGraphRepository,\n",
    "    LINQSGraphRepository\n",
    ")\n",
    "\n",
    "repositories = [\n",
    "    #StringGraphRepository(),\n",
    "    #NetworkRepositoryGraphRepository(),\n",
    "    #KGHubGraphRepository(),\n",
    "    #YueGraphRepository(),\n",
    "    LINQSGraphRepository()\n",
    "]"
   ]
  },
  {
   "cell_type": "code",
   "execution_count": 2,
   "metadata": {
    "scrolled": false
   },
   "outputs": [
    {
     "data": {
      "application/vnd.jupyter.widget-view+json": {
       "model_id": "aa087825373f4aa69733307b0f358a99",
       "version_major": 2,
       "version_minor": 0
      },
      "text/plain": [
       "Retrieving from repositories:   0%|          | 0/1 [00:00<?, ?it/s]"
      ]
     },
     "metadata": {},
     "output_type": "display_data"
    },
    {
     "data": {
      "application/vnd.jupyter.widget-view+json": {
       "model_id": "",
       "version_major": 2,
       "version_minor": 0
      },
      "text/plain": [
       "Retrieving graphs for LINQSGraphRepository: 0it [00:00, ?it/s]"
      ]
     },
     "metadata": {},
     "output_type": "display_data"
    },
    {
     "data": {
      "application/vnd.jupyter.widget-view+json": {
       "model_id": "",
       "version_major": 2,
       "version_minor": 0
      },
      "text/plain": [
       "Building graph retrieval methods for LINQSGraphRepository:   0%|          | 0/3 [00:00<?, ?it/s]"
      ]
     },
     "metadata": {},
     "output_type": "display_data"
    }
   ],
   "source": [
    "for repository in tqdm(\n",
    "    repositories,\n",
    "    desc=\"Retrieving from repositories\"\n",
    "):\n",
    "    repository.retrieve_all()\n",
    "    repository.build_all()"
   ]
  },
  {
   "cell_type": "raw",
   "metadata": {},
   "source": [
    "import compress_json\n",
    "compress_json.load(\"graph_miner/repositories/linqs/reports/Cora.json.gz\")"
   ]
  },
  {
   "cell_type": "raw",
   "metadata": {},
   "source": [
    "import compress_json\n",
    "import os\n",
    "last_graph_name = [\n",
    "    file_name\n",
    "    for file_name in os.listdir(\"networkrepository\")\n",
    "    if os.path.isdir(f\"networkrepository/{file_name}\")\n",
    "][0]\n",
    "last_graph_name"
   ]
  },
  {
   "cell_type": "raw",
   "metadata": {},
   "source": [
    "# ADDING TO CORRUPTED GRAPH SET!\n",
    "path = \"graph_miner/repositories/corrupted_graphs/NetworkRepositoryGraphRepository.json.gz\"\n",
    "errored = compress_json.load(path)\n",
    "errored.append(last_graph_name)\n",
    "compress_json.dump(list(set(errored)), path)"
   ]
  },
  {
   "cell_type": "raw",
   "metadata": {},
   "source": [
    "# REMOVING FROM CORRUPTED GRAPH SET!\n",
    "path = \"graph_miner/repositories/corrupted_graphs/NetworkRepositoryGraphRepository.json.gz\"\n",
    "errored = compress_json.load(path)\n",
    "errored.pop(errored.index(last_graph_name))\n",
    "compress_json.dump(list(set(errored)), path)"
   ]
  },
  {
   "cell_type": "raw",
   "metadata": {},
   "source": [
    "# ADDING TO UNSUPPORTED GRAPH SET!\n",
    "path = \"graph_miner/repositories/unsupported_graphs/NetworkRepositoryGraphRepository.json.gz\"\n",
    "unsupported = compress_json.load(path)\n",
    "unsupported.append(last_graph_name)\n",
    "compress_json.dump(list(set(unsupported)), path)"
   ]
  }
 ],
 "metadata": {
  "kernelspec": {
   "display_name": "Python 3",
   "language": "python",
   "name": "python3"
  },
  "language_info": {
   "codemirror_mode": {
    "name": "ipython",
    "version": 3
   },
   "file_extension": ".py",
   "mimetype": "text/x-python",
   "name": "python",
   "nbconvert_exporter": "python",
   "pygments_lexer": "ipython3",
   "version": "3.6.9"
  }
 },
 "nbformat": 4,
 "nbformat_minor": 4
}
