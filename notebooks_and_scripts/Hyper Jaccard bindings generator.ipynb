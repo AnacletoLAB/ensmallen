{
 "cells": [
  {
   "cell_type": "code",
   "execution_count": 1,
   "id": "b3c68497",
   "metadata": {},
   "outputs": [],
   "source": [
    "import os"
   ]
  },
  {
   "cell_type": "code",
   "execution_count": 2,
   "id": "a7ac8c57",
   "metadata": {},
   "outputs": [],
   "source": [
    "path = \"../bindings/python/src/hyper_jaccard.rs\"\n",
    "precision = (4, 16)\n",
    "bits = (4,6)"
   ]
  },
  {
   "cell_type": "code",
   "execution_count": 3,
   "id": "e172cca8",
   "metadata": {},
   "outputs": [],
   "source": [
    "file_lines = []\n",
    "\n",
    "with open(path, \"r\") as f:\n",
    "    for line in f:\n",
    "        if \"{python_generated}\" in line:\n",
    "            continue\n",
    "        file_lines.append(line)\n",
    "        if \"{python_macro}\" in line:\n",
    "            if \"{bits}\" not in line or \"{precision}\" not in line:\n",
    "                raise ValueError(\n",
    "                    f\"We detected a python macro line, namely {line}, \"\n",
    "                    \"but it does not contain the expected tags {bits} and {precision}.\"\n",
    "                )\n",
    "            # We split the line at the comments\n",
    "            spacer = \"//\"\n",
    "            if \"///\" in line:\n",
    "                spacer = \"///\"\n",
    "            initial_spaces, python_macro = line.split(spacer)\n",
    "            for p in range(precision[0], precision[1] + 1):\n",
    "                for b in range(bits[0], bits[1] + 1):\n",
    "                    populated_line = initial_spaces + python_macro.strip().format(\n",
    "                        bits=b,\n",
    "                        precision=p,\n",
    "                        python_macro=\"// {python_generated}\\n\"\n",
    "                    )\n",
    "                    file_lines.append(populated_line)\n",
    "            \n",
    "with open(path, \"w\") as f:\n",
    "    f.write(\"\".join(file_lines))"
   ]
  },
  {
   "cell_type": "code",
   "execution_count": null,
   "id": "705879a3",
   "metadata": {},
   "outputs": [],
   "source": []
  },
  {
   "cell_type": "code",
   "execution_count": null,
   "id": "ec41e7ba",
   "metadata": {},
   "outputs": [],
   "source": []
  }
 ],
 "metadata": {
  "kernelspec": {
   "display_name": "Python 3 (ipykernel)",
   "language": "python",
   "name": "python3"
  },
  "language_info": {
   "codemirror_mode": {
    "name": "ipython",
    "version": 3
   },
   "file_extension": ".py",
   "mimetype": "text/x-python",
   "name": "python",
   "nbconvert_exporter": "python",
   "pygments_lexer": "ipython3",
   "version": "3.9.7"
  }
 },
 "nbformat": 4,
 "nbformat_minor": 5
}
