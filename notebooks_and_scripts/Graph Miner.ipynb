{
 "cells": [
  {
   "cell_type": "code",
   "execution_count": null,
   "id": "1c3b2ebb",
   "metadata": {
    "scrolled": false
   },
   "outputs": [
    {
     "name": "stderr",
     "output_type": "stream",
     "text": [
      "2023-08-12 21:07:33.017807: I tensorflow/core/platform/cpu_feature_guard.cc:182] This TensorFlow binary is optimized to use available CPU instructions in performance-critical operations.\n",
      "To enable the following instructions: AVX2 FMA, in other operations, rebuild TensorFlow with the appropriate compiler flags.\n"
     ]
    },
    {
     "data": {
      "application/vnd.jupyter.widget-view+json": {
       "model_id": "36b7c6277d244d6f88c3c94ebd6cd26e",
       "version_major": 2,
       "version_minor": 0
      },
      "text/plain": [
       "Retrieving from repositories:   0%|                                                                           …"
      ]
     },
     "metadata": {},
     "output_type": "display_data"
    },
    {
     "data": {
      "application/vnd.jupyter.widget-view+json": {
       "model_id": "e24262eb87e84f0f85cf60601438563f",
       "version_major": 2,
       "version_minor": 0
      },
      "text/plain": [
       "Retrieving graphs for StringGraphRepository:   0%|                                                            …"
      ]
     },
     "metadata": {},
     "output_type": "display_data"
    }
   ],
   "source": [
    "from glob import glob\n",
    "import pandas as pd\n",
    "import shutil\n",
    "from tqdm.auto import tqdm\n",
    "import os\n",
    "from graph_miner import (\n",
    "    StringGraphRepository,\n",
    "    NetworkRepositoryGraphRepository,\n",
    "    KGHubGraphRepository,\n",
    "    KGOBOGraphRepository,\n",
    "    YueGraphRepository,\n",
    "    LINQSGraphRepository,\n",
    "    MonarchInitiativeGraphRepository,\n",
    "    ZenodoGraphRepository,\n",
    "    PheKnowLatorKGGraphrepository,\n",
    "    JAXGraphRepository,\n",
    "    WikiDataGraphRepository,\n",
    "    HarvardGraphRepository,\n",
    "    FreebaseGraphRepository,\n",
    "    WikipediaGraphRepository,\n",
    "    PubMedGraphRepository,\n",
    "    HetionetGraphRepository\n",
    ")\n",
    "\n",
    "for Repository in tqdm(\n",
    "    (\n",
    "        StringGraphRepository,\n",
    "        NetworkRepositoryGraphRepository,\n",
    "        KGHubGraphRepository,\n",
    "        KGOBOGraphRepository,\n",
    "        YueGraphRepository,\n",
    "        LINQSGraphRepository,\n",
    "        MonarchInitiativeGraphRepository,\n",
    "        ZenodoGraphRepository,\n",
    "        PheKnowLatorKGGraphrepository,\n",
    "        JAXGraphRepository,\n",
    "        HarvardGraphRepository,\n",
    "        WikiDataGraphRepository,\n",
    "        FreebaseGraphRepository,\n",
    "        WikipediaGraphRepository,\n",
    "        PubMedGraphRepository,\n",
    "        HetionetGraphRepository\n",
    "    ),\n",
    "    desc=\"Retrieving from repositories\",\n",
    "    dynamic_ncols=True,\n",
    "    leave=False\n",
    "):\n",
    "    repository = Repository()\n",
    "    repository.retrieve_all()\n",
    "    repository.build_all()"
   ]
  },
  {
   "cell_type": "code",
   "execution_count": null,
   "id": "0fe2007c",
   "metadata": {},
   "outputs": [],
   "source": []
  }
 ],
 "metadata": {
  "kernelspec": {
   "display_name": "Python 3 (ipykernel)",
   "language": "python",
   "name": "python3"
  },
  "language_info": {
   "codemirror_mode": {
    "name": "ipython",
    "version": 3
   },
   "file_extension": ".py",
   "mimetype": "text/x-python",
   "name": "python",
   "nbconvert_exporter": "python",
   "pygments_lexer": "ipython3",
   "version": "3.8.16"
  }
 },
 "nbformat": 4,
 "nbformat_minor": 5
}
