{
 "cells": [
  {
   "cell_type": "code",
   "execution_count": null,
   "id": "1c3b2ebb",
   "metadata": {
    "scrolled": false
   },
   "outputs": [
    {
     "data": {
      "application/vnd.jupyter.widget-view+json": {
       "model_id": "ba0f947f7df2428f90a0c8329ee1c9e6",
       "version_major": 2,
       "version_minor": 0
      },
      "text/plain": [
       "Retrieving from repositories:   0%|          | 0/16 [00:00<?, ?it/s]"
      ]
     },
     "metadata": {},
     "output_type": "display_data"
    },
    {
     "name": "stderr",
     "output_type": "stream",
     "text": [
      "/home/lucac/github/ensmallen/notebooks_and_scripts/graph_miner/repositories/string_graph_repository.py:217: FutureWarning: Series.__getitem__ treating keys as positions is deprecated. In a future version, integer keys will always be treated as labels (consistent with DataFrame behavior). To access a value by position, use `ser.iloc[pos]`\n",
      "  taxon_id = row[0]\n"
     ]
    },
    {
     "data": {
      "application/vnd.jupyter.widget-view+json": {
       "model_id": "4702075b04f843bd83e6d7574ca999b6",
       "version_major": 2,
       "version_minor": 0
      },
      "text/plain": [
       "Retrieving graphs for StringGraphRepository:   0%|          | 0/50522 [00:00<?, ?it/s]"
      ]
     },
     "metadata": {},
     "output_type": "display_data"
    }
   ],
   "source": [
    "from glob import glob\n",
    "import pandas as pd\n",
    "import shutil\n",
    "from tqdm.auto import tqdm\n",
    "import os\n",
    "from graph_miner import (\n",
    "    StringGraphRepository,\n",
    "    NetworkRepositoryGraphRepository,\n",
    "    KGHubGraphRepository,\n",
    "    KGOBOGraphRepository,\n",
    "    YueGraphRepository,\n",
    "    LINQSGraphRepository,\n",
    "    MonarchInitiativeGraphRepository,\n",
    "    ZenodoGraphRepository,\n",
    "    PheKnowLatorKGGraphrepository,\n",
    "    JAXGraphRepository,\n",
    "    WikiDataGraphRepository,\n",
    "    HarvardGraphRepository,\n",
    "    FreebaseGraphRepository,\n",
    "    WikipediaGraphRepository,\n",
    "    PubMedGraphRepository,\n",
    "    HetionetGraphRepository\n",
    ")\n",
    "\n",
    "for Repository in tqdm(\n",
    "    (\n",
    "        StringGraphRepository,\n",
    "        NetworkRepositoryGraphRepository,\n",
    "        KGHubGraphRepository,\n",
    "        KGOBOGraphRepository,\n",
    "        YueGraphRepository,\n",
    "        LINQSGraphRepository,\n",
    "        MonarchInitiativeGraphRepository,\n",
    "        ZenodoGraphRepository,\n",
    "        PheKnowLatorKGGraphrepository,\n",
    "        JAXGraphRepository,\n",
    "        HarvardGraphRepository,\n",
    "        WikiDataGraphRepository,\n",
    "        FreebaseGraphRepository,\n",
    "        WikipediaGraphRepository,\n",
    "        PubMedGraphRepository,\n",
    "        HetionetGraphRepository\n",
    "    ),\n",
    "    desc=\"Retrieving from repositories\",\n",
    "    dynamic_ncols=True,\n",
    "    leave=False\n",
    "):\n",
    "    repository = Repository()\n",
    "    repository.retrieve_all()\n",
    "    repository.build_all()"
   ]
  },
  {
   "cell_type": "code",
   "execution_count": null,
   "id": "0fe2007c",
   "metadata": {},
   "outputs": [],
   "source": []
  }
 ],
 "metadata": {
  "kernelspec": {
   "display_name": "base",
   "language": "python",
   "name": "python3"
  },
  "language_info": {
   "codemirror_mode": {
    "name": "ipython",
    "version": 3
   },
   "file_extension": ".py",
   "mimetype": "text/x-python",
   "name": "python",
   "nbconvert_exporter": "python",
   "pygments_lexer": "ipython3",
   "version": "3.12.4"
  }
 },
 "nbformat": 4,
 "nbformat_minor": 5
}
