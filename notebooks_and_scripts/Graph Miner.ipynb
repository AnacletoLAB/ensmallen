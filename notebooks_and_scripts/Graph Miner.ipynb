{
 "cells": [
  {
   "cell_type": "code",
   "execution_count": 1,
   "metadata": {},
   "outputs": [
    {
     "data": {
      "application/vnd.jupyter.widget-view+json": {
       "model_id": "",
       "version_major": 2,
       "version_minor": 0
      },
      "text/plain": [
       "Downloading to downloads/phekno...lator_builds.json:   0%| | 0.00/33.5k [00:00<?"
      ]
     },
     "metadata": {},
     "output_type": "display_data"
    },
    {
     "data": {
      "application/vnd.jupyter.widget-view+json": {
       "model_id": "",
       "version_major": 2,
       "version_minor": 0
      },
      "text/plain": [
       "Retrieve the anchors from WikiData dumps:   0%|          | 0/23 [00:00<?, ?it/s]"
      ]
     },
     "metadata": {},
     "output_type": "display_data"
    }
   ],
   "source": [
    "from glob import glob\n",
    "import pandas as pd\n",
    "import shutil\n",
    "from tqdm.auto import tqdm\n",
    "import os\n",
    "from graph_miner import (\n",
    "    StringGraphRepository,\n",
    "    NetworkRepositoryGraphRepository,\n",
    "    KGHubGraphRepository,\n",
    "    KGOBOGraphRepository,\n",
    "    YueGraphRepository,\n",
    "    LINQSGraphRepository,\n",
    "    MonarchInitiativeGraphRepository,\n",
    "    ZenodoGraphRepository,\n",
    "    PheKnowLatorKGGraphrepository,\n",
    "    JAXGraphRepository,\n",
    "    WikiDataGraphRepository\n",
    ")\n",
    "\n",
    "repositories = [\n",
    "    ZenodoGraphRepository(),\n",
    "    StringGraphRepository(),\n",
    "    NetworkRepositoryGraphRepository(),\n",
    "    KGHubGraphRepository(),\n",
    "    KGOBOGraphRepository(),\n",
    "    MonarchInitiativeGraphRepository(),\n",
    "    YueGraphRepository(),\n",
    "    LINQSGraphRepository(),\n",
    "    PheKnowLatorKGGraphrepository(),\n",
    "    JAXGraphRepository(),\n",
    "    WikiDataGraphRepository()\n",
    "]"
   ]
  },
  {
   "cell_type": "code",
   "execution_count": 2,
   "metadata": {
    "scrolled": false
   },
   "outputs": [
    {
     "data": {
      "application/vnd.jupyter.widget-view+json": {
       "model_id": "",
       "version_major": 2,
       "version_minor": 0
      },
      "text/plain": [
       "Deleting previous graph retrieval:   0%|          | 0/14 [00:00<?, ?it/s]"
      ]
     },
     "metadata": {},
     "output_type": "display_data"
    },
    {
     "data": {
      "application/vnd.jupyter.widget-view+json": {
       "model_id": "cba1a2cd5a1d4a88a334fefe2e2f0f48",
       "version_major": 2,
       "version_minor": 0
      },
      "text/plain": [
       "Retrieving from repositories:   0%|          | 0/11 [00:00<?, ?it/s]"
      ]
     },
     "metadata": {},
     "output_type": "display_data"
    },
    {
     "data": {
      "application/vnd.jupyter.widget-view+json": {
       "model_id": "",
       "version_major": 2,
       "version_minor": 0
      },
      "text/plain": [
       "Retrieving graphs for ZenodoGraphRepository:   0%|          | 0/1 [00:00<?, ?it/s]"
      ]
     },
     "metadata": {},
     "output_type": "display_data"
    },
    {
     "data": {
      "application/vnd.jupyter.widget-view+json": {
       "model_id": "",
       "version_major": 2,
       "version_minor": 0
      },
      "text/plain": [
       "Building graph retrieval methods for ZenodoGraphRepository:   0%|          | 0/1 [00:00<?, ?it/s]"
      ]
     },
     "metadata": {},
     "output_type": "display_data"
    },
    {
     "data": {
      "application/vnd.jupyter.widget-view+json": {
       "model_id": "",
       "version_major": 2,
       "version_minor": 0
      },
      "text/plain": [
       "Retrieving graphs for StringGraphRepository:   0%|          | 0/13870 [00:00<?, ?it/s]"
      ]
     },
     "metadata": {},
     "output_type": "display_data"
    },
    {
     "data": {
      "application/vnd.jupyter.widget-view+json": {
       "model_id": "",
       "version_major": 2,
       "version_minor": 0
      },
      "text/plain": [
       "Building graph retrieval methods for StringGraphRepository:   0%|          | 0/13870 [00:00<?, ?it/s]"
      ]
     },
     "metadata": {},
     "output_type": "display_data"
    },
    {
     "data": {
      "application/vnd.jupyter.widget-view+json": {
       "model_id": "",
       "version_major": 2,
       "version_minor": 0
      },
      "text/plain": [
       "Retrieving graphs for NetworkRepositoryGraphRepository:   0%|          | 0/1193 [00:00<?, ?it/s]"
      ]
     },
     "metadata": {},
     "output_type": "display_data"
    },
    {
     "data": {
      "application/vnd.jupyter.widget-view+json": {
       "model_id": "",
       "version_major": 2,
       "version_minor": 0
      },
      "text/plain": [
       "Building graph retrieval methods for NetworkRepositoryGraphRepository:   0%|          | 0/1193 [00:00<?, ?it/s…"
      ]
     },
     "metadata": {},
     "output_type": "display_data"
    },
    {
     "data": {
      "application/vnd.jupyter.widget-view+json": {
       "model_id": "",
       "version_major": 2,
       "version_minor": 0
      },
      "text/plain": [
       "Retrieving graphs for KGHubGraphRepository:   0%|          | 0/4 [00:00<?, ?it/s]"
      ]
     },
     "metadata": {},
     "output_type": "display_data"
    },
    {
     "data": {
      "application/vnd.jupyter.widget-view+json": {
       "model_id": "ea9b0006cb34411aae74d87588230f4d",
       "version_major": 2,
       "version_minor": 0
      },
      "text/plain": [
       "Building graph retrieval methods for KGHubGraphRepository:   0%|          | 0/4 [00:00<?, ?it/s]"
      ]
     },
     "metadata": {},
     "output_type": "display_data"
    },
    {
     "ename": "IndexError",
     "evalue": "list index out of range",
     "output_type": "error",
     "traceback": [
      "\u001b[0;31m---------------------------------------------------------------------------\u001b[0m",
      "\u001b[0;31mIndexError\u001b[0m                                Traceback (most recent call last)",
      "\u001b[0;32m/var/folders/22/8r87klw91pj7r5jzplv2bcsc0000gn/T/ipykernel_5881/3638440729.py\u001b[0m in \u001b[0;36m<module>\u001b[0;34m\u001b[0m\n\u001b[1;32m     15\u001b[0m ):\n\u001b[1;32m     16\u001b[0m     \u001b[0mrepository\u001b[0m\u001b[0;34m.\u001b[0m\u001b[0mretrieve_all\u001b[0m\u001b[0;34m(\u001b[0m\u001b[0;34m)\u001b[0m\u001b[0;34m\u001b[0m\u001b[0;34m\u001b[0m\u001b[0m\n\u001b[0;32m---> 17\u001b[0;31m     \u001b[0mrepository\u001b[0m\u001b[0;34m.\u001b[0m\u001b[0mbuild_all\u001b[0m\u001b[0;34m(\u001b[0m\u001b[0;34m)\u001b[0m\u001b[0;34m\u001b[0m\u001b[0;34m\u001b[0m\u001b[0m\n\u001b[0m",
      "\u001b[0;32m~/github/ensmallen/notebooks_and_scripts/graph_miner/repositories/graph_repository.py\u001b[0m in \u001b[0;36mbuild_all\u001b[0;34m(self)\u001b[0m\n\u001b[1;32m    625\u001b[0m         ):\n\u001b[1;32m    626\u001b[0m             \u001b[0mgraph_data\u001b[0m \u001b[0;34m=\u001b[0m \u001b[0mcompress_json\u001b[0m\u001b[0;34m.\u001b[0m\u001b[0mload\u001b[0m\u001b[0;34m(\u001b[0m\u001b[0mgraph_data_path\u001b[0m\u001b[0;34m)\u001b[0m\u001b[0;34m\u001b[0m\u001b[0;34m\u001b[0m\u001b[0m\n\u001b[0;32m--> 627\u001b[0;31m             \u001b[0mfirst_graph_version_data\u001b[0m \u001b[0;34m=\u001b[0m \u001b[0mlist\u001b[0m\u001b[0;34m(\u001b[0m\u001b[0mgraph_data\u001b[0m\u001b[0;34m.\u001b[0m\u001b[0mvalues\u001b[0m\u001b[0;34m(\u001b[0m\u001b[0;34m)\u001b[0m\u001b[0;34m)\u001b[0m\u001b[0;34m[\u001b[0m\u001b[0;36m0\u001b[0m\u001b[0;34m]\u001b[0m\u001b[0;34m\u001b[0m\u001b[0;34m\u001b[0m\u001b[0m\n\u001b[0m\u001b[1;32m    628\u001b[0m             \u001b[0mgraph_name\u001b[0m \u001b[0;34m=\u001b[0m \u001b[0mfirst_graph_version_data\u001b[0m\u001b[0;34m[\u001b[0m\u001b[0;34m\"graph_name\"\u001b[0m\u001b[0;34m]\u001b[0m\u001b[0;34m\u001b[0m\u001b[0;34m\u001b[0m\u001b[0m\n\u001b[1;32m    629\u001b[0m             \u001b[0mgraph_method_name\u001b[0m \u001b[0;34m=\u001b[0m \u001b[0mfirst_graph_version_data\u001b[0m\u001b[0;34m[\u001b[0m\u001b[0;34m\"graph_method_name\"\u001b[0m\u001b[0;34m]\u001b[0m\u001b[0;34m\u001b[0m\u001b[0;34m\u001b[0m\u001b[0m\n",
      "\u001b[0;31mIndexError\u001b[0m: list index out of range"
     ]
    }
   ],
   "source": [
    "for path in tqdm(\n",
    "    glob(\"../bindings/python/ensmallen/datasets/*\"),\n",
    "    leave=False,\n",
    "    desc=\"Deleting previous graph retrieval\"\n",
    "):\n",
    "    if os.path.isdir(path):\n",
    "        shutil.rmtree(path)\n",
    "        \n",
    "shutil.rmtree(\"graph_miner/repositories/graph_repositories/\")\n",
    "\n",
    "for repository in tqdm(\n",
    "    repositories,\n",
    "    desc=\"Retrieving from repositories\",\n",
    "    leave=False\n",
    "):\n",
    "    repository.retrieve_all()\n",
    "    repository.build_all()"
   ]
  }
 ],
 "metadata": {
  "kernelspec": {
   "display_name": "Python 3 (ipykernel)",
   "language": "python",
   "name": "python3"
  },
  "language_info": {
   "codemirror_mode": {
    "name": "ipython",
    "version": 3
   },
   "file_extension": ".py",
   "mimetype": "text/x-python",
   "name": "python",
   "nbconvert_exporter": "python",
   "pygments_lexer": "ipython3",
   "version": "3.7.10"
  }
 },
 "nbformat": 4,
 "nbformat_minor": 4
}
