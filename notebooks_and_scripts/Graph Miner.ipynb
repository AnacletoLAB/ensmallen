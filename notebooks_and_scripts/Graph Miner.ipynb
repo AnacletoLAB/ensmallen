{
 "cells": [
  {
   "cell_type": "code",
   "execution_count": null,
   "id": "32c9f02f",
   "metadata": {},
   "outputs": [],
   "source": [
    "from glob import glob\n",
    "import pandas as pd\n",
    "import shutil\n",
    "from tqdm.auto import tqdm\n",
    "import os\n",
    "from graph_miner import (\n",
    "    StringGraphRepository,\n",
    "    NetworkRepositoryGraphRepository,\n",
    "    KGHubGraphRepository,\n",
    "    KGOBOGraphRepository,\n",
    "    YueGraphRepository,\n",
    "    LINQSGraphRepository,\n",
    "    MonarchInitiativeGraphRepository,\n",
    "    ZenodoGraphRepository,\n",
    "    PheKnowLatorKGGraphrepository,\n",
    "    JAXGraphRepository,\n",
    "    WikiDataGraphRepository,\n",
    "    FreebaseGraphRepository,\n",
    "    WikipediaGraphRepository\n",
    ")\n",
    "\n",
    "for Repository in tqdm(\n",
    "    (\n",
    "        StringGraphRepository,\n",
    "        NetworkRepositoryGraphRepository,\n",
    "        KGHubGraphRepository,\n",
    "        KGOBOGraphRepository,\n",
    "        YueGraphRepository,\n",
    "        LINQSGraphRepository,\n",
    "        MonarchInitiativeGraphRepository,\n",
    "        ZenodoGraphRepository,\n",
    "        PheKnowLatorKGGraphrepository,\n",
    "        JAXGraphRepository,\n",
    "        WikiDataGraphRepository,\n",
    "        FreebaseGraphRepository,\n",
    "        WikipediaGraphRepository\n",
    "    ),\n",
    "    desc=\"Retrieving from repositories\",\n",
    "    dynamic_ncols=True,\n",
    "    leave=False\n",
    "):\n",
    "    repository = Repository()\n",
    "    repository.retrieve_all()\n",
    "    repository.build_all()\n"
   ]
  },
  {
   "cell_type": "code",
   "execution_count": null,
   "id": "622b9b37",
   "metadata": {},
   "outputs": [],
   "source": []
  }
 ],
 "metadata": {
  "kernelspec": {
   "display_name": "Python 3 (ipykernel)",
   "language": "python",
   "name": "python3"
  },
  "language_info": {
   "codemirror_mode": {
    "name": "ipython",
    "version": 3
   },
   "file_extension": ".py",
   "mimetype": "text/x-python",
   "name": "python",
   "nbconvert_exporter": "python",
   "pygments_lexer": "ipython3",
   "version": "3.7.13"
  }
 },
 "nbformat": 4,
 "nbformat_minor": 5
}
