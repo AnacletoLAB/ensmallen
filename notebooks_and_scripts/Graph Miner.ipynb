{
 "cells": [
  {
   "cell_type": "code",
   "execution_count": 3,
   "metadata": {},
   "outputs": [],
   "source": [
    "from tqdm.auto import tqdm\n",
    "from graph_miner import (\n",
    "    StringGraphRepository,\n",
    "    NetworkRepositoryGraphRepository,\n",
    "    KGHubGraphRepository,\n",
    "    YueGraphRepository,\n",
    "    LINQSGraphRepository\n",
    ")\n",
    "\n",
    "repositories = [\n",
    "    #StringGraphRepository(),\n",
    "    #NetworkRepositoryGraphRepository(),\n",
    "    #KGHubGraphRepository(),\n",
    "    #YueGraphRepository(),\n",
    "    #LINQSGraphRepository()\n",
    "]"
   ]
  },
  {
   "cell_type": "code",
   "execution_count": 4,
   "metadata": {
    "scrolled": false
   },
   "outputs": [
    {
     "data": {
      "application/vnd.jupyter.widget-view+json": {
       "model_id": "09e976373ccd456db3bdf69159365b0c",
       "version_major": 2,
       "version_minor": 0
      },
      "text/plain": [
       "Retrieving from repositories:   0%|          | 0/1 [00:00<?, ?it/s]"
      ]
     },
     "metadata": {},
     "output_type": "display_data"
    },
    {
     "data": {
      "application/vnd.jupyter.widget-view+json": {
       "model_id": "",
       "version_major": 2,
       "version_minor": 0
      },
      "text/plain": [
       "Retrieving graphs for LINQSGraphRepository: 0it [00:00, ?it/s]"
      ]
     },
     "metadata": {},
     "output_type": "display_data"
    },
    {
     "data": {
      "application/vnd.jupyter.widget-view+json": {
       "model_id": "",
       "version_major": 2,
       "version_minor": 0
      },
      "text/plain": [
       "Building graph retrieval methods for LINQSGraphRepository:   0%|          | 0/3 [00:00<?, ?it/s]"
      ]
     },
     "metadata": {},
     "output_type": "display_data"
    }
   ],
   "source": [
    "for repository in tqdm(\n",
    "    repositories,\n",
    "    desc=\"Retrieving from repositories\"\n",
    "):\n",
    "    repository.retrieve_all()\n",
    "    repository.build_all()"
   ]
  },
  {
   "cell_type": "raw",
   "metadata": {},
   "source": [
    "import compress_json\n",
    "compress_json.load(\"graph_miner/repositories/linqs/reports/Cora.json.gz\")"
   ]
  },
  {
   "cell_type": "raw",
   "metadata": {},
   "source": [
    "import compress_json\n",
    "import os\n",
    "last_graph_name = [\n",
    "    file_name\n",
    "    for file_name in os.listdir(\"networkrepository\")\n",
    "    if os.path.isdir(f\"networkrepository/{file_name}\")\n",
    "][0]\n",
    "last_graph_name"
   ]
  },
  {
   "cell_type": "raw",
   "metadata": {},
   "source": [
    "# ADDING TO CORRUPTED GRAPH SET!\n",
    "path = \"graph_miner/repositories/corrupted_graphs/NetworkRepositoryGraphRepository.json.gz\"\n",
    "errored = compress_json.load(path)\n",
    "errored.append(last_graph_name)\n",
    "compress_json.dump(list(set(errored)), path)"
   ]
  },
  {
   "cell_type": "raw",
   "metadata": {},
   "source": [
    "# REMOVING FROM CORRUPTED GRAPH SET!\n",
    "path = \"graph_miner/repositories/corrupted_graphs/NetworkRepositoryGraphRepository.json.gz\"\n",
    "errored = compress_json.load(path)\n",
    "errored.pop(errored.index(last_graph_name))\n",
    "compress_json.dump(list(set(errored)), path)"
   ]
  },
  {
   "cell_type": "raw",
   "metadata": {},
   "source": [
    "# ADDING TO UNSUPPORTED GRAPH SET!\n",
    "path = \"graph_miner/repositories/unsupported_graphs/NetworkRepositoryGraphRepository.json.gz\"\n",
    "unsupported = compress_json.load(path)\n",
    "unsupported.append(last_graph_name)\n",
    "compress_json.dump(list(set(unsupported)), path)"
   ]
  },
  {
   "cell_type": "code",
   "execution_count": 7,
   "metadata": {},
   "outputs": [],
   "source": [
    "from glob import glob\n",
    "import compress_json"
   ]
  },
  {
   "cell_type": "code",
   "execution_count": 10,
   "metadata": {},
   "outputs": [],
   "source": [
    "from ensmallen_graph import EnsmallenGraph"
   ]
  },
  {
   "cell_type": "code",
   "execution_count": 21,
   "metadata": {},
   "outputs": [],
   "source": [
    "arguments = {\n",
    "    \"node_type_path\",\n",
    "    \"node_type_list_separator\",\n",
    "    \"node_types_column_number\",\n",
    "    \"node_types_column\",\n",
    "    \"node_types_ids_column_number\",\n",
    "    \"node_types_ids_column\",\n",
    "    \"node_types_number\",\n",
    "    \"numeric_node_type_ids\",\n",
    "    \"minimum_node_type_id\",\n",
    "    \"node_type_list_header\",\n",
    "    \"node_type_list_rows_to_skip\",\n",
    "    \"node_type_list_is_correct\",\n",
    "    \"node_type_list_max_rows_number\",\n",
    "    \"node_type_list_comment_symbol\",\n",
    "    \"load_node_type_list_in_parallel\",\n",
    "    \"node_path\",\n",
    "    \"node_list_separator\",\n",
    "    \"node_list_header\",\n",
    "    \"node_list_rows_to_skip\",\n",
    "    \"node_list_is_correct\",\n",
    "    \"node_list_max_rows_number\",\n",
    "    \"node_list_comment_symbol\",\n",
    "    \"default_node_type\",\n",
    "    \"nodes_column_number\",\n",
    "    \"nodes_column\",\n",
    "    \"node_types_separator\",\n",
    "    \"node_list_node_types_column_number\",\n",
    "    \"node_list_node_types_column\",\n",
    "    \"node_ids_column\",\n",
    "    \"node_ids_column_number\",\n",
    "    \"nodes_number\",\n",
    "    \"minimum_node_id\",\n",
    "    \"numeric_node_ids\",\n",
    "    \"node_list_numeric_node_type_ids\",\n",
    "    \"skip_node_types_if_unavailable\",\n",
    "    \"load_node_list_in_parallel\",\n",
    "    \"edge_type_path\",\n",
    "    \"edge_types_column_number\",\n",
    "    \"edge_types_column\",\n",
    "    \"edge_types_ids_column_number\",\n",
    "    \"edge_types_ids_column\",\n",
    "    \"edge_types_number\",\n",
    "    \"numeric_edge_type_ids\",\n",
    "    \"minimum_edge_type_id\",\n",
    "    \"edge_type_list_separator\",\n",
    "    \"edge_type_list_header\",\n",
    "    \"edge_type_list_rows_to_skip\",\n",
    "    \"edge_type_list_is_correct\",\n",
    "    \"edge_type_list_max_rows_number\",\n",
    "    \"edge_type_list_comment_symbol\",\n",
    "    \"load_edge_type_list_in_parallel\",\n",
    "    \"edge_path\",\n",
    "    \"edge_list_separator\",\n",
    "    \"edge_list_header\",\n",
    "    \"edge_list_rows_to_skip\",\n",
    "    \"sources_column_number\",\n",
    "    \"sources_column\",\n",
    "    \"destinations_column_number\",\n",
    "    \"destinations_column\",\n",
    "    \"edge_list_edge_types_column_number\",\n",
    "    \"edge_list_edge_types_column\",\n",
    "    \"default_edge_type\",\n",
    "    \"weights_column_number\",\n",
    "    \"weights_column\",\n",
    "    \"default_weight\",\n",
    "    \"edge_ids_column\",\n",
    "    \"edge_ids_column_number\",\n",
    "    \"edge_list_numeric_edge_type_ids\",\n",
    "    \"edge_list_numeric_node_ids\",\n",
    "    \"skip_weights_if_unavailable\",\n",
    "    \"skip_edge_types_if_unavailable\",\n",
    "    \"edge_list_is_complete\",\n",
    "    \"edge_list_may_contain_duplicates\",\n",
    "    \"edge_list_is_sorted\",\n",
    "    \"edge_list_is_correct\",\n",
    "    \"edge_list_max_rows_number\",\n",
    "    \"edge_list_comment_symbol\",\n",
    "    \"edges_number\",\n",
    "    \"load_edge_list_in_parallel\",\n",
    "    \"verbose\",\n",
    "    \"may_have_singletons\",\n",
    "    \"may_have_singleton_with_selfloops\",\n",
    "    \"directed\",\n",
    "    \"name\"\n",
    "}"
   ]
  },
  {
   "cell_type": "code",
   "execution_count": 1,
   "metadata": {},
   "outputs": [],
   "source": [
    "remapping = {\n",
    "    \"edge_separator\": \"edge_list_separator\",\n",
    "    \"node_separator\": \"node_list_separator\",\n",
    "    \"node_header\": \"node_list_header\",\n",
    "    \"edge_header\": \"edge_list_header\",\n",
    "    \"node_rows_to_skip\": \"node_list_rows_to_skip\",\n",
    "    \"edge_rows_to_skip\": \"edge_list_rows_to_skip\",\n",
    "    \"node_file_comment_symbol\": \"node_list_comment_symbol\",\n",
    "    \"edge_file_comment_symbol\": \"edge_list_comment_symbol\",\n",
    "    \"numeric_edge_node_ids\": \"edge_list_numeric_node_ids\",\n",
    "    \"node_types_column\": \"node_list_node_types_column\",\n",
    "    \"node_types_column_number\": \"node_list_node_types_column_number\",\n",
    "    \"edge_types_column\": \"edge_list_edge_types_column\",\n",
    "    \"edge_types_column_number\": \"edge_list_edge_types_column_number\",\n",
    "}"
   ]
  },
  {
   "cell_type": "code",
   "execution_count": 4,
   "metadata": {},
   "outputs": [
    {
     "data": {
      "application/vnd.jupyter.widget-view+json": {
       "model_id": "0534980cc8a444bd91994bb82df12240",
       "version_major": 2,
       "version_minor": 0
      },
      "text/plain": [
       "  0%|          | 0/6296 [00:00<?, ?it/s]"
      ]
     },
     "metadata": {},
     "output_type": "display_data"
    }
   ],
   "source": [
    "from glob import glob\n",
    "import compress_json\n",
    "import os\n",
    "from tqdm.auto import tqdm\n",
    "\n",
    "for path in tqdm(glob(\"../bindings/**/*.json.gz\", recursive=True)):\n",
    "    metadata = compress_json.load(path)\n",
    "    for argument, value in metadata[\"arguments\"].items():\n",
    "        new_argument = remapping.get(argument, argument)\n",
    "        del metadata[\"arguments\"][argument]\n",
    "        metadata[\"arguments\"][new_argument] = value\n",
    "        if argument == \"edge_list_edge_types_column\" and value == \"edge_label\":\n",
    "            metadata[\"arguments\"][new_argument] = \"predicate\"\n",
    "            \n",
    "    os.remove(path)\n",
    "    compress_json.dump(metadata, path)"
   ]
  },
  {
   "cell_type": "code",
   "execution_count": 6,
   "metadata": {},
   "outputs": [],
   "source": [
    "path = \"../bindings/python/ensmallen_graph/datasets/kghub/KGCOVID19.json\"\n",
    "\n",
    "compress_json.dump(\n",
    "    compress_json.load(path),\n",
    "    f\"{path}.gz\"\n",
    ")"
   ]
  },
  {
   "cell_type": "code",
   "execution_count": 48,
   "metadata": {},
   "outputs": [
    {
     "data": {
      "text/plain": [
       "{'graph_name': 'Enterococcus casseliflavus',\n",
       " 'graph_method_name': 'EnterococcusCasseliflavus',\n",
       " 'graph_textual_report': 'The undirected graph Enterococcus casseliflavus has 3094 nodes and 407604 weighted edges, of which none are self-loops. The graph is dense as it has a density of 0.08519 and has 16 connected components, where the component with most nodes has 3054 nodes and the component with the least nodes has 2 nodes. The graph median node degree is 225, the mean node degree is 263.48, and the node degree mode is 4. The top 5 most central nodes are 565655.ECBG_00868 (degree 1445), 565655.ECBG_01601 (degree 1276), 565655.ECBG_00826 (degree 1247), 565655.ECBG_01126 (degree 1201) and 565655.ECBG_01236 (degree 1173).',\n",
       " 'graph_json_report': {'min_degree': '1',\n",
       "  'self_loops_number': '0',\n",
       "  'unique_edge_types_number': '0',\n",
       "  'singletons': '0',\n",
       "  'has_edge_types': 'false',\n",
       "  'density': '0.085185995609913',\n",
       "  'has_node_types': 'false',\n",
       "  'name': 'Enterococcus casseliflavus',\n",
       "  'nodes_number': '3094',\n",
       "  'edges_number': '815208',\n",
       "  'degree_mean': '263.4802844214609',\n",
       "  'undirected_edges_number': '407604',\n",
       "  'self_loops_rate': '0',\n",
       "  'max_degree': '1445',\n",
       "  'directed': 'false',\n",
       "  'has_weights': 'true',\n",
       "  'unique_node_types_number': '0'},\n",
       " 'citations': ['@article{szklarczyk2019string,\\n    title={STRING v11: protein--protein association networks with increased coverage, supporting functional discovery in genome-wide experimental datasets},\\n    author={Szklarczyk, Damian and Gable, Annika L and Lyon, David and Junge, Alexander and Wyder, Stefan and Huerta-Cepas, Jaime and Simonovic, Milan and Doncheva, Nadezhda T and Morris, John H and Bork, Peer and others},\\n    journal={Nucleic acids research},\\n    volume={47},\\n    number={D1},\\n    pages={D607--D613},\\n    year={2019},\\n    publisher={Oxford University Press}\\n}'],\n",
       " 'urls': ['https://stringdb-static.org/download/protein.links.v11.0/565655.protein.links.v11.0.txt.gz'],\n",
       " 'paths': ['string/enterococcus_casseliflavus.csv.gz'],\n",
       " 'datetime': '2021-02-02 21:12:48.692630',\n",
       " 'arguments': {'edge_path': 'string/enterococcus_casseliflavus.csv',\n",
       "  'directed': False,\n",
       "  'edge_list_separator': ' ',\n",
       "  'sources_column': 'protein1',\n",
       "  'destinations_column': 'protein2',\n",
       "  'weights_column': 'combined_score',\n",
       "  'name': 'Enterococcus casseliflavus'}}"
      ]
     },
     "execution_count": 48,
     "metadata": {},
     "output_type": "execute_result"
    }
   ],
   "source": [
    "metadata"
   ]
  },
  {
   "cell_type": "code",
   "execution_count": null,
   "metadata": {},
   "outputs": [],
   "source": []
  }
 ],
 "metadata": {
  "kernelspec": {
   "display_name": "Python 3",
   "language": "python",
   "name": "python3"
  },
  "language_info": {
   "codemirror_mode": {
    "name": "ipython",
    "version": 3
   },
   "file_extension": ".py",
   "mimetype": "text/x-python",
   "name": "python",
   "nbconvert_exporter": "python",
   "pygments_lexer": "ipython3",
   "version": "3.7.6"
  }
 },
 "nbformat": 4,
 "nbformat_minor": 4
}
