{
 "cells": [
  {
   "cell_type": "code",
   "execution_count": 1,
   "metadata": {},
   "outputs": [
    {
     "data": {
      "application/vnd.jupyter.widget-view+json": {
       "model_id": "",
       "version_major": 2,
       "version_minor": 0
      },
      "text/plain": [
       "Downloading to downloads/phekno...lator_builds.json:   0%|                                                    …"
      ]
     },
     "metadata": {},
     "output_type": "display_data"
    },
    {
     "data": {
      "application/vnd.jupyter.widget-view+json": {
       "model_id": "",
       "version_major": 2,
       "version_minor": 0
      },
      "text/plain": [
       "Retrieve the anchors from WikiData dumps:   0%|          | 0/23 [00:00<?, ?it/s]"
      ]
     },
     "metadata": {},
     "output_type": "display_data"
    },
    {
     "data": {
      "application/vnd.jupyter.widget-view+json": {
       "model_id": "",
       "version_major": 2,
       "version_minor": 0
      },
      "text/plain": [
       "Parsing Wikipedia graphs:   0%|          | 0/545 [00:00<?, ?it/s]"
      ]
     },
     "metadata": {},
     "output_type": "display_data"
    }
   ],
   "source": [
    "from glob import glob\n",
    "import pandas as pd\n",
    "import shutil\n",
    "from tqdm.auto import tqdm\n",
    "import os\n",
    "from graph_miner import (\n",
    "    StringGraphRepository,\n",
    "    NetworkRepositoryGraphRepository,\n",
    "    KGHubGraphRepository,\n",
    "    KGOBOGraphRepository,\n",
    "    YueGraphRepository,\n",
    "    LINQSGraphRepository,\n",
    "    MonarchInitiativeGraphRepository,\n",
    "    ZenodoGraphRepository,\n",
    "    PheKnowLatorKGGraphrepository,\n",
    "    JAXGraphRepository,\n",
    "    WikiDataGraphRepository,\n",
    "    FreebaseGraphRepository,\n",
    "    WikipediaGraphRepository\n",
    ")\n",
    "\n",
    "repositories = [\n",
    "    ZenodoGraphRepository(),\n",
    "    StringGraphRepository(),\n",
    "    NetworkRepositoryGraphRepository(),\n",
    "    KGHubGraphRepository(),\n",
    "    KGOBOGraphRepository(),\n",
    "    MonarchInitiativeGraphRepository(),\n",
    "    YueGraphRepository(),\n",
    "    LINQSGraphRepository(),\n",
    "    PheKnowLatorKGGraphrepository(),\n",
    "    JAXGraphRepository(),\n",
    "    WikiDataGraphRepository(),\n",
    "    FreebaseGraphRepository(),\n",
    "    WikipediaGraphRepository()\n",
    "]"
   ]
  },
  {
   "cell_type": "code",
   "execution_count": null,
   "metadata": {
    "scrolled": false
   },
   "outputs": [
    {
     "data": {
      "application/vnd.jupyter.widget-view+json": {
       "model_id": "",
       "version_major": 2,
       "version_minor": 0
      },
      "text/plain": [
       "Deleting previous graph retrieval:   0%|          | 0/16 [00:00<?, ?it/s]"
      ]
     },
     "metadata": {},
     "output_type": "display_data"
    },
    {
     "data": {
      "application/vnd.jupyter.widget-view+json": {
       "model_id": "e225f153549d43ee9393902366f1a068",
       "version_major": 2,
       "version_minor": 0
      },
      "text/plain": [
       "Retrieving from repositories:   0%|          | 0/13 [00:00<?, ?it/s]"
      ]
     },
     "metadata": {},
     "output_type": "display_data"
    },
    {
     "data": {
      "application/vnd.jupyter.widget-view+json": {
       "model_id": "",
       "version_major": 2,
       "version_minor": 0
      },
      "text/plain": [
       "Retrieving graphs for ZenodoGraphRepository:   0%|          | 0/10 [00:00<?, ?it/s]"
      ]
     },
     "metadata": {},
     "output_type": "display_data"
    },
    {
     "data": {
      "application/vnd.jupyter.widget-view+json": {
       "model_id": "",
       "version_major": 2,
       "version_minor": 0
      },
      "text/plain": [
       "Building graph retrieval methods for ZenodoGraphRepository:   0%|          | 0/10 [00:00<?, ?it/s]"
      ]
     },
     "metadata": {},
     "output_type": "display_data"
    },
    {
     "data": {
      "application/vnd.jupyter.widget-view+json": {
       "model_id": "",
       "version_major": 2,
       "version_minor": 0
      },
      "text/plain": [
       "Retrieving graphs for StringGraphRepository:   0%|          | 0/13870 [00:00<?, ?it/s]"
      ]
     },
     "metadata": {},
     "output_type": "display_data"
    },
    {
     "data": {
      "application/vnd.jupyter.widget-view+json": {
       "model_id": "05f79e8f1ac1451186635e7a6ddd8323",
       "version_major": 2,
       "version_minor": 0
      },
      "text/plain": [
       "Building graph retrieval methods for StringGraphRepository:   0%|          | 0/13870 [00:00<?, ?it/s]"
      ]
     },
     "metadata": {},
     "output_type": "display_data"
    }
   ],
   "source": [
    "for path in tqdm(\n",
    "    glob(\"../bindings/python/ensmallen/datasets/*\"),\n",
    "    leave=False,\n",
    "    desc=\"Deleting previous graph retrieval\"\n",
    "):\n",
    "    if os.path.isdir(path):\n",
    "        shutil.rmtree(path)\n",
    "        \n",
    "shutil.rmtree(\"graph_miner/repositories/graph_repositories/\")\n",
    "\n",
    "for repository in tqdm(\n",
    "    repositories,\n",
    "    desc=\"Retrieving from repositories\",\n",
    "    leave=False\n",
    "):\n",
    "    repository.retrieve_all()\n",
    "    repository.build_all()"
   ]
  }
 ],
 "metadata": {
  "kernelspec": {
   "display_name": "Python 3 (ipykernel)",
   "language": "python",
   "name": "python3"
  },
  "language_info": {
   "codemirror_mode": {
    "name": "ipython",
    "version": 3
   },
   "file_extension": ".py",
   "mimetype": "text/x-python",
   "name": "python",
   "nbconvert_exporter": "python",
   "pygments_lexer": "ipython3",
   "version": "3.7.10"
  }
 },
 "nbformat": 4,
 "nbformat_minor": 4
}
