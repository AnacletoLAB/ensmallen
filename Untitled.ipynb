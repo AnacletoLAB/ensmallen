{
 "cells": [
  {
   "cell_type": "code",
   "execution_count": 6,
   "id": "fa4c2533",
   "metadata": {},
   "outputs": [],
   "source": [
    "from ensmallen_graph.datasets.linqs import Cora"
   ]
  },
  {
   "cell_type": "code",
   "execution_count": 8,
   "id": "923d47c1",
   "metadata": {},
   "outputs": [],
   "source": [
    "graph = Cora()"
   ]
  },
  {
   "cell_type": "code",
   "execution_count": 11,
   "id": "ac9ef942",
   "metadata": {},
   "outputs": [
    {
     "name": "stdout",
     "output_type": "stream",
     "text": [
      "1.35 ms ± 61.8 µs per loop (mean ± std. dev. of 7 runs, 1000 loops each)\n"
     ]
    }
   ],
   "source": [
    "%%timeit\n",
    "graph.connected_components()"
   ]
  },
  {
   "cell_type": "code",
   "execution_count": 2,
   "id": "27260403",
   "metadata": {},
   "outputs": [],
   "source": [
    "graphs = get_all_available_graphs_dataframe()"
   ]
  },
  {
   "cell_type": "code",
   "execution_count": 3,
   "id": "b8e544ab",
   "metadata": {},
   "outputs": [
    {
     "data": {
      "text/html": [
       "<div>\n",
       "<style scoped>\n",
       "    .dataframe tbody tr th:only-of-type {\n",
       "        vertical-align: middle;\n",
       "    }\n",
       "\n",
       "    .dataframe tbody tr th {\n",
       "        vertical-align: top;\n",
       "    }\n",
       "\n",
       "    .dataframe thead th {\n",
       "        text-align: right;\n",
       "    }\n",
       "</style>\n",
       "<table border=\"1\" class=\"dataframe\">\n",
       "  <thead>\n",
       "    <tr style=\"text-align: right;\">\n",
       "      <th></th>\n",
       "      <th>repository</th>\n",
       "      <th>graph_name</th>\n",
       "    </tr>\n",
       "  </thead>\n",
       "  <tbody>\n",
       "    <tr>\n",
       "      <th>0</th>\n",
       "      <td>monarchinitiative</td>\n",
       "      <td>Monarch</td>\n",
       "    </tr>\n",
       "    <tr>\n",
       "      <th>2</th>\n",
       "      <td>networkrepository</td>\n",
       "      <td>C5009</td>\n",
       "    </tr>\n",
       "    <tr>\n",
       "      <th>3</th>\n",
       "      <td>networkrepository</td>\n",
       "      <td>OpsahlSouthernwomen</td>\n",
       "    </tr>\n",
       "    <tr>\n",
       "      <th>4</th>\n",
       "      <td>networkrepository</td>\n",
       "      <td>SocfbNorthwestern25</td>\n",
       "    </tr>\n",
       "    <tr>\n",
       "      <th>5</th>\n",
       "      <td>networkrepository</td>\n",
       "      <td>Gen400P0965</td>\n",
       "    </tr>\n",
       "    <tr>\n",
       "      <th>...</th>\n",
       "      <td>...</td>\n",
       "      <td>...</td>\n",
       "    </tr>\n",
       "    <tr>\n",
       "      <th>57905</th>\n",
       "      <td>string</td>\n",
       "      <td>SaccharomonosporaCyanea</td>\n",
       "    </tr>\n",
       "    <tr>\n",
       "      <th>57911</th>\n",
       "      <td>string</td>\n",
       "      <td>ThaueraHumireducens</td>\n",
       "    </tr>\n",
       "    <tr>\n",
       "      <th>57914</th>\n",
       "      <td>string</td>\n",
       "      <td>EnterococcusCasseliflavus</td>\n",
       "    </tr>\n",
       "    <tr>\n",
       "      <th>57920</th>\n",
       "      <td>string</td>\n",
       "      <td>SalinimicrobiumCatena</td>\n",
       "    </tr>\n",
       "    <tr>\n",
       "      <th>57923</th>\n",
       "      <td>pheknowlatorkg</td>\n",
       "      <td>PheKnowLator</td>\n",
       "    </tr>\n",
       "  </tbody>\n",
       "</table>\n",
       "<p>15078 rows × 2 columns</p>\n",
       "</div>"
      ],
      "text/plain": [
       "              repository                 graph_name\n",
       "0      monarchinitiative                    Monarch\n",
       "2      networkrepository                      C5009\n",
       "3      networkrepository        OpsahlSouthernwomen\n",
       "4      networkrepository        SocfbNorthwestern25\n",
       "5      networkrepository                Gen400P0965\n",
       "...                  ...                        ...\n",
       "57905             string    SaccharomonosporaCyanea\n",
       "57911             string        ThaueraHumireducens\n",
       "57914             string  EnterococcusCasseliflavus\n",
       "57920             string      SalinimicrobiumCatena\n",
       "57923     pheknowlatorkg               PheKnowLator\n",
       "\n",
       "[15078 rows x 2 columns]"
      ]
     },
     "execution_count": 3,
     "metadata": {},
     "output_type": "execute_result"
    }
   ],
   "source": [
    "graphs[[\"repository\", \"graph_name\"]].drop_duplicates()"
   ]
  },
  {
   "cell_type": "code",
   "execution_count": 4,
   "id": "06dce4bb",
   "metadata": {},
   "outputs": [
    {
     "data": {
      "text/plain": [
       "{'monarchinitiative': 1,\n",
       " 'networkrepository': 1193,\n",
       " 'linqs': 3,\n",
       " 'kghub': 2,\n",
       " 'yue': 7,\n",
       " 'zenodo': 1,\n",
       " 'string': 13870,\n",
       " 'pheknowlatorkg': 1}"
      ]
     },
     "execution_count": 4,
     "metadata": {},
     "output_type": "execute_result"
    }
   ],
   "source": [
    "{\n",
    "    repository: len(get_available_graphs_from_repository(repository))\n",
    "    for repository in get_available_repositories()\n",
    "}"
   ]
  }
 ],
 "metadata": {
  "kernelspec": {
   "display_name": "Python 3",
   "language": "python",
   "name": "python3"
  },
  "language_info": {
   "codemirror_mode": {
    "name": "ipython",
    "version": 3
   },
   "file_extension": ".py",
   "mimetype": "text/x-python",
   "name": "python",
   "nbconvert_exporter": "python",
   "pygments_lexer": "ipython3",
   "version": "3.8.8"
  }
 },
 "nbformat": 4,
 "nbformat_minor": 5
}
