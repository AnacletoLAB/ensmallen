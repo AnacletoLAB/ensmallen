{
 "cells": [
  {
   "cell_type": "code",
   "execution_count": 1,
   "metadata": {},
   "outputs": [],
   "source": [
    "from ensmallen_graph import EnsmallenGraph"
   ]
  },
  {
   "cell_type": "code",
   "execution_count": 2,
   "metadata": {},
   "outputs": [
    {
     "data": {
      "text/html": [
       "<p style=\"text-align: justify; text-justify: inter-word;\">The directed graph Small String PPI has 2127 nodes and 9999 unweighted edges, of which none are self-loops. The graph is sparse as it has a density of 0.00221 and is connected, as it has a single component. The graph median node degree is 0, the mean node degree is 4.70 and the node degree mode is 0. The top 5 most central nodes are ENSP00000360532 (degree 408), ENSP00000380432 (degree 338), ENSP00000376297 (degree 297), ENSP00000348965 (degree 272) and ENSP00000380308 (degree 230).</p>"
      ],
      "text/plain": [
       "The directed graph Small String PPI has 2127 nodes and 9999 unweighted edges, of which none are self-loops. The graph is sparse as it has a density of 0.00221 and is connected, as it has a single component. The graph median node degree is 0, the mean node degree is 4.70 and the node degree mode is 0. The top 5 most central nodes are ENSP00000360532 (degree 408), ENSP00000380432 (degree 338), ENSP00000376297 (degree 297), ENSP00000348965 (degree 272) and ENSP00000380308 (degree 230)."
      ]
     },
     "execution_count": 2,
     "metadata": {},
     "output_type": "execute_result"
    }
   ],
   "source": [
    "EnsmallenGraph.from_unsorted_csv(\"graph/tests/data/ppi/edges.tsv\", directed=True, name=\"Small String PPI\")"
   ]
  },
  {
   "cell_type": "code",
   "execution_count": 3,
   "metadata": {},
   "outputs": [
    {
     "data": {
      "text/plain": [
       "'The directed graph Small String PPI has 2127 nodes and 9999 unweighted edges, of which none are self-loops. The graph is sparse as it has a density of 0.00221 and is connected, as it has a single component. The graph median node degree is 0, the mean node degree is 4.70 and the node degree mode is 0. The top 5 most central nodes are ENSP00000360532 (degree 408), ENSP00000380432 (degree 338), ENSP00000376297 (degree 297), ENSP00000348965 (degree 272) and ENSP00000380308 (degree 230).'"
      ]
     },
     "execution_count": 3,
     "metadata": {},
     "output_type": "execute_result"
    }
   ],
   "source": [
    "str(EnsmallenGraph.from_unsorted_csv(\"graph/tests/data/ppi/edges.tsv\", directed=True, name=\"Small String PPI\"))"
   ]
  }
 ],
 "metadata": {
  "kernelspec": {
   "display_name": "Python 3",
   "language": "python",
   "name": "python3"
  },
  "language_info": {
   "codemirror_mode": {
    "name": "ipython",
    "version": 3
   },
   "file_extension": ".py",
   "mimetype": "text/x-python",
   "name": "python",
   "nbconvert_exporter": "python",
   "pygments_lexer": "ipython3",
   "version": "3.7.6"
  }
 },
 "nbformat": 4,
 "nbformat_minor": 4
}
