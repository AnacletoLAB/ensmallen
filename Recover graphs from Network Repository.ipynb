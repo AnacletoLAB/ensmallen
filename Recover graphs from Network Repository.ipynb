{
 "cells": [
  {
   "cell_type": "code",
   "execution_count": 1,
   "metadata": {},
   "outputs": [],
   "source": [
    "import pandas as pd\n",
    "from downloaders import BaseDownloader\n",
    "from ensmallen_graph import EnsmallenGraph\n",
    "from downloaders.extractors.zip_extraction import ZipExtractor\n",
    "from tqdm.auto import tqdm\n",
    "import os\n",
    "import shutil"
   ]
  },
  {
   "cell_type": "code",
   "execution_count": 2,
   "metadata": {},
   "outputs": [],
   "source": [
    "url = \"http://nrvis.com/download/data/{}/{}.zip\""
   ]
  },
  {
   "cell_type": "code",
   "execution_count": 3,
   "metadata": {},
   "outputs": [],
   "source": [
    "path = \"bindings/python/ensmallen_graph/network_repository/{}.json\""
   ]
  },
  {
   "cell_type": "code",
   "execution_count": 4,
   "metadata": {},
   "outputs": [],
   "source": [
    "graphs = pd.read_html(\"http://networkrepository.com/networks.php\")[0]\n",
    "graphs[\"url\"] = [\n",
    "    url.format(row[\"Type\"], row[\"Graph Name\"])\n",
    "    for _, row in graphs.iterrows()\n",
    "]\n",
    "graphs.drop(\n",
    "    columns=[\"Download\", \"Size\"],\n",
    "    inplace=True\n",
    ")"
   ]
  },
  {
   "cell_type": "code",
   "execution_count": 5,
   "metadata": {},
   "outputs": [
    {
     "data": {
      "text/html": [
       "<div>\n",
       "<style scoped>\n",
       "    .dataframe tbody tr th:only-of-type {\n",
       "        vertical-align: middle;\n",
       "    }\n",
       "\n",
       "    .dataframe tbody tr th {\n",
       "        vertical-align: top;\n",
       "    }\n",
       "\n",
       "    .dataframe thead th {\n",
       "        text-align: right;\n",
       "    }\n",
       "</style>\n",
       "<table border=\"1\" class=\"dataframe\">\n",
       "  <thead>\n",
       "    <tr style=\"text-align: right;\">\n",
       "      <th></th>\n",
       "      <th>Graph Name</th>\n",
       "      <th>Type</th>\n",
       "      <th>|V|</th>\n",
       "      <th>|E|</th>\n",
       "      <th>dmax</th>\n",
       "      <th>davg</th>\n",
       "      <th>r</th>\n",
       "      <th>|T|</th>\n",
       "      <th>Tavg</th>\n",
       "      <th>Tmax</th>\n",
       "      <th>κavg</th>\n",
       "      <th>κ</th>\n",
       "      <th>K</th>\n",
       "      <th>ωheu</th>\n",
       "      <th>url</th>\n",
       "    </tr>\n",
       "  </thead>\n",
       "  <tbody>\n",
       "    <tr>\n",
       "      <th>0</th>\n",
       "      <td>bio-CE-CX</td>\n",
       "      <td>bio</td>\n",
       "      <td>15K</td>\n",
       "      <td>246K</td>\n",
       "      <td>375</td>\n",
       "      <td>32</td>\n",
       "      <td>0.34</td>\n",
       "      <td>7M</td>\n",
       "      <td>442</td>\n",
       "      <td>14K</td>\n",
       "      <td>0.21</td>\n",
       "      <td>0.29</td>\n",
       "      <td>79</td>\n",
       "      <td>43</td>\n",
       "      <td>http://nrvis.com/download/data/bio/bio-CE-CX.zip</td>\n",
       "    </tr>\n",
       "    <tr>\n",
       "      <th>1</th>\n",
       "      <td>bio-CE-GN</td>\n",
       "      <td>bio</td>\n",
       "      <td>2K</td>\n",
       "      <td>54K</td>\n",
       "      <td>242</td>\n",
       "      <td>48</td>\n",
       "      <td>0.07</td>\n",
       "      <td>686K</td>\n",
       "      <td>308</td>\n",
       "      <td>3K</td>\n",
       "      <td>0.18</td>\n",
       "      <td>0.14</td>\n",
       "      <td>49</td>\n",
       "      <td>16</td>\n",
       "      <td>http://nrvis.com/download/data/bio/bio-CE-GN.zip</td>\n",
       "    </tr>\n",
       "    <tr>\n",
       "      <th>2</th>\n",
       "      <td>bio-CE-GT</td>\n",
       "      <td>bio</td>\n",
       "      <td>924</td>\n",
       "      <td>3K</td>\n",
       "      <td>151</td>\n",
       "      <td>7</td>\n",
       "      <td>-0.18</td>\n",
       "      <td>12K</td>\n",
       "      <td>12</td>\n",
       "      <td>684</td>\n",
       "      <td>0.61</td>\n",
       "      <td>0.13</td>\n",
       "      <td>10</td>\n",
       "      <td>8</td>\n",
       "      <td>http://nrvis.com/download/data/bio/bio-CE-GT.zip</td>\n",
       "    </tr>\n",
       "    <tr>\n",
       "      <th>3</th>\n",
       "      <td>bio-CE-HT</td>\n",
       "      <td>bio</td>\n",
       "      <td>3K</td>\n",
       "      <td>3K</td>\n",
       "      <td>44</td>\n",
       "      <td>2</td>\n",
       "      <td>-0.30</td>\n",
       "      <td>87</td>\n",
       "      <td>-</td>\n",
       "      <td>4</td>\n",
       "      <td>0.01</td>\n",
       "      <td>0.01</td>\n",
       "      <td>4</td>\n",
       "      <td>4</td>\n",
       "      <td>http://nrvis.com/download/data/bio/bio-CE-HT.zip</td>\n",
       "    </tr>\n",
       "    <tr>\n",
       "      <th>4</th>\n",
       "      <td>bio-CE-LC</td>\n",
       "      <td>bio</td>\n",
       "      <td>1K</td>\n",
       "      <td>2K</td>\n",
       "      <td>131</td>\n",
       "      <td>2</td>\n",
       "      <td>-0.17</td>\n",
       "      <td>699</td>\n",
       "      <td>-</td>\n",
       "      <td>31</td>\n",
       "      <td>0.08</td>\n",
       "      <td>0.04</td>\n",
       "      <td>7</td>\n",
       "      <td>7</td>\n",
       "      <td>http://nrvis.com/download/data/bio/bio-CE-LC.zip</td>\n",
       "    </tr>\n",
       "    <tr>\n",
       "      <th>...</th>\n",
       "      <td>...</td>\n",
       "      <td>...</td>\n",
       "      <td>...</td>\n",
       "      <td>...</td>\n",
       "      <td>...</td>\n",
       "      <td>...</td>\n",
       "      <td>...</td>\n",
       "      <td>...</td>\n",
       "      <td>...</td>\n",
       "      <td>...</td>\n",
       "      <td>...</td>\n",
       "      <td>...</td>\n",
       "      <td>...</td>\n",
       "      <td>...</td>\n",
       "      <td>...</td>\n",
       "    </tr>\n",
       "    <tr>\n",
       "      <th>5147</th>\n",
       "      <td>web-wikipedia-growth</td>\n",
       "      <td>web</td>\n",
       "      <td>-</td>\n",
       "      <td>-</td>\n",
       "      <td>-</td>\n",
       "      <td>-</td>\n",
       "      <td>-</td>\n",
       "      <td>-</td>\n",
       "      <td>-</td>\n",
       "      <td>-</td>\n",
       "      <td>-</td>\n",
       "      <td>-</td>\n",
       "      <td>-</td>\n",
       "      <td>-</td>\n",
       "      <td>http://nrvis.com/download/data/web/web-wikiped...</td>\n",
       "    </tr>\n",
       "    <tr>\n",
       "      <th>5148</th>\n",
       "      <td>web-wikipedia2009</td>\n",
       "      <td>web</td>\n",
       "      <td>2M</td>\n",
       "      <td>5M</td>\n",
       "      <td>3K</td>\n",
       "      <td>4</td>\n",
       "      <td>0.05</td>\n",
       "      <td>7M</td>\n",
       "      <td>3</td>\n",
       "      <td>12K</td>\n",
       "      <td>0.16</td>\n",
       "      <td>0.05</td>\n",
       "      <td>67</td>\n",
       "      <td>11</td>\n",
       "      <td>http://nrvis.com/download/data/web/web-wikiped...</td>\n",
       "    </tr>\n",
       "    <tr>\n",
       "      <th>5149</th>\n",
       "      <td>web-wikipedia-link-de</td>\n",
       "      <td>web</td>\n",
       "      <td>-</td>\n",
       "      <td>-</td>\n",
       "      <td>-</td>\n",
       "      <td>-</td>\n",
       "      <td>-</td>\n",
       "      <td>-</td>\n",
       "      <td>-</td>\n",
       "      <td>-</td>\n",
       "      <td>-</td>\n",
       "      <td>-</td>\n",
       "      <td>-</td>\n",
       "      <td>-</td>\n",
       "      <td>http://nrvis.com/download/data/web/web-wikiped...</td>\n",
       "    </tr>\n",
       "    <tr>\n",
       "      <th>5150</th>\n",
       "      <td>web-wikipedia-link-fr</td>\n",
       "      <td>web</td>\n",
       "      <td>-</td>\n",
       "      <td>-</td>\n",
       "      <td>-</td>\n",
       "      <td>-</td>\n",
       "      <td>-</td>\n",
       "      <td>-</td>\n",
       "      <td>-</td>\n",
       "      <td>-</td>\n",
       "      <td>-</td>\n",
       "      <td>-</td>\n",
       "      <td>-</td>\n",
       "      <td>-</td>\n",
       "      <td>http://nrvis.com/download/data/web/web-wikiped...</td>\n",
       "    </tr>\n",
       "    <tr>\n",
       "      <th>5151</th>\n",
       "      <td>web-wikipedia-link-it</td>\n",
       "      <td>web</td>\n",
       "      <td>-</td>\n",
       "      <td>-</td>\n",
       "      <td>-</td>\n",
       "      <td>-</td>\n",
       "      <td>-</td>\n",
       "      <td>-</td>\n",
       "      <td>-</td>\n",
       "      <td>-</td>\n",
       "      <td>-</td>\n",
       "      <td>-</td>\n",
       "      <td>-</td>\n",
       "      <td>-</td>\n",
       "      <td>http://nrvis.com/download/data/web/web-wikiped...</td>\n",
       "    </tr>\n",
       "  </tbody>\n",
       "</table>\n",
       "<p>5152 rows × 15 columns</p>\n",
       "</div>"
      ],
      "text/plain": [
       "                 Graph Name Type  |V|   |E| dmax davg      r   |T| Tavg Tmax  \\\n",
       "0                 bio-CE-CX  bio  15K  246K  375   32   0.34    7M  442  14K   \n",
       "1                 bio-CE-GN  bio   2K   54K  242   48   0.07  686K  308   3K   \n",
       "2                 bio-CE-GT  bio  924    3K  151    7  -0.18   12K   12  684   \n",
       "3                 bio-CE-HT  bio   3K    3K   44    2  -0.30    87    -    4   \n",
       "4                 bio-CE-LC  bio   1K    2K  131    2  -0.17   699    -   31   \n",
       "...                     ...  ...  ...   ...  ...  ...    ...   ...  ...  ...   \n",
       "5147   web-wikipedia-growth  web    -     -    -    -      -     -    -    -   \n",
       "5148      web-wikipedia2009  web   2M    5M   3K    4   0.05    7M    3  12K   \n",
       "5149  web-wikipedia-link-de  web    -     -    -    -      -     -    -    -   \n",
       "5150  web-wikipedia-link-fr  web    -     -    -    -      -     -    -    -   \n",
       "5151  web-wikipedia-link-it  web    -     -    -    -      -     -    -    -   \n",
       "\n",
       "      κavg     κ   K ωheu                                                url  \n",
       "0     0.21  0.29  79   43   http://nrvis.com/download/data/bio/bio-CE-CX.zip  \n",
       "1     0.18  0.14  49   16   http://nrvis.com/download/data/bio/bio-CE-GN.zip  \n",
       "2     0.61  0.13  10    8   http://nrvis.com/download/data/bio/bio-CE-GT.zip  \n",
       "3     0.01  0.01   4    4   http://nrvis.com/download/data/bio/bio-CE-HT.zip  \n",
       "4     0.08  0.04   7    7   http://nrvis.com/download/data/bio/bio-CE-LC.zip  \n",
       "...    ...   ...  ..  ...                                                ...  \n",
       "5147     -     -   -    -  http://nrvis.com/download/data/web/web-wikiped...  \n",
       "5148  0.16  0.05  67   11  http://nrvis.com/download/data/web/web-wikiped...  \n",
       "5149     -     -   -    -  http://nrvis.com/download/data/web/web-wikiped...  \n",
       "5150     -     -   -    -  http://nrvis.com/download/data/web/web-wikiped...  \n",
       "5151     -     -   -    -  http://nrvis.com/download/data/web/web-wikiped...  \n",
       "\n",
       "[5152 rows x 15 columns]"
      ]
     },
     "execution_count": 5,
     "metadata": {},
     "output_type": "execute_result"
    }
   ],
   "source": [
    "graphs"
   ]
  },
  {
   "cell_type": "code",
   "execution_count": 6,
   "metadata": {},
   "outputs": [],
   "source": [
    "downloader = BaseDownloader(\n",
    "    target_directory=\"graphs\",\n",
    "    process_number=6,\n",
    "    verbose=2,\n",
    "    crash_early=True\n",
    ")"
   ]
  },
  {
   "cell_type": "code",
   "execution_count": 7,
   "metadata": {},
   "outputs": [
    {
     "data": {
      "application/vnd.jupyter.widget-view+json": {
       "model_id": "5f36d67445714663a67a38dfc1b325cb",
       "version_major": 2,
       "version_minor": 0
      },
      "text/plain": [
       "HBox(children=(IntProgress(value=0, max=5152), HTML(value='')))"
      ]
     },
     "metadata": {},
     "output_type": "display_data"
    },
    {
     "data": {
      "application/vnd.jupyter.widget-view+json": {
       "model_id": "",
       "version_major": 2,
       "version_minor": 0
      },
      "text/plain": [
       "HBox(children=(IntProgress(value=0, description='Downloading to graphs/bio-CE-CX.zip', layout=Layout(flex='2')…"
      ]
     },
     "metadata": {},
     "output_type": "display_data"
    },
    {
     "data": {
      "application/vnd.jupyter.widget-view+json": {
       "model_id": "",
       "version_major": 2,
       "version_minor": 0
      },
      "text/plain": [
       "HBox(children=(IntProgress(value=0, description='Downloading to graphs/bio-CE-GN.zip', layout=Layout(flex='2')…"
      ]
     },
     "metadata": {},
     "output_type": "display_data"
    },
    {
     "data": {
      "application/vnd.jupyter.widget-view+json": {
       "model_id": "",
       "version_major": 2,
       "version_minor": 0
      },
      "text/plain": [
       "HBox(children=(IntProgress(value=0, description='Downloading to graphs/bio-CE-GT.zip', layout=Layout(flex='2')…"
      ]
     },
     "metadata": {},
     "output_type": "display_data"
    },
    {
     "data": {
      "application/vnd.jupyter.widget-view+json": {
       "model_id": "",
       "version_major": 2,
       "version_minor": 0
      },
      "text/plain": [
       "HBox(children=(IntProgress(value=0, description='Downloading to graphs/bio-CE-HT.zip', layout=Layout(flex='2')…"
      ]
     },
     "metadata": {},
     "output_type": "display_data"
    },
    {
     "data": {
      "application/vnd.jupyter.widget-view+json": {
       "model_id": "",
       "version_major": 2,
       "version_minor": 0
      },
      "text/plain": [
       "HBox(children=(IntProgress(value=0, description='Downloading to graphs/bio-CE-LC.zip', layout=Layout(flex='2')…"
      ]
     },
     "metadata": {},
     "output_type": "display_data"
    },
    {
     "data": {
      "application/vnd.jupyter.widget-view+json": {
       "model_id": "",
       "version_major": 2,
       "version_minor": 0
      },
      "text/plain": [
       "HBox(children=(IntProgress(value=0, description='Downloading to graphs/bio-CE-PG.zip', layout=Layout(flex='2')…"
      ]
     },
     "metadata": {},
     "output_type": "display_data"
    },
    {
     "data": {
      "application/vnd.jupyter.widget-view+json": {
       "model_id": "",
       "version_major": 2,
       "version_minor": 0
      },
      "text/plain": [
       "HBox(children=(IntProgress(value=0, description='Downloading to graphs/bio-DM-CX.zip', layout=Layout(flex='2')…"
      ]
     },
     "metadata": {},
     "output_type": "display_data"
    },
    {
     "data": {
      "application/vnd.jupyter.widget-view+json": {
       "model_id": "",
       "version_major": 2,
       "version_minor": 0
      },
      "text/plain": [
       "HBox(children=(IntProgress(value=0, description='Downloading to graphs/bio-DM-HT.zip', layout=Layout(flex='2')…"
      ]
     },
     "metadata": {},
     "output_type": "display_data"
    },
    {
     "data": {
      "application/vnd.jupyter.widget-view+json": {
       "model_id": "",
       "version_major": 2,
       "version_minor": 0
      },
      "text/plain": [
       "HBox(children=(IntProgress(value=0, description='Downloading to graphs/bio-DM-LC.zip', layout=Layout(flex='2')…"
      ]
     },
     "metadata": {},
     "output_type": "display_data"
    },
    {
     "data": {
      "application/vnd.jupyter.widget-view+json": {
       "model_id": "",
       "version_major": 2,
       "version_minor": 0
      },
      "text/plain": [
       "HBox(children=(IntProgress(value=0, description='Downloading to graphs/bio-DR-CX.zip', layout=Layout(flex='2')…"
      ]
     },
     "metadata": {},
     "output_type": "display_data"
    },
    {
     "data": {
      "application/vnd.jupyter.widget-view+json": {
       "model_id": "",
       "version_major": 2,
       "version_minor": 0
      },
      "text/plain": [
       "HBox(children=(IntProgress(value=0, description='Downloading to graphs/bio-HS-CX.zip', layout=Layout(flex='2')…"
      ]
     },
     "metadata": {},
     "output_type": "display_data"
    },
    {
     "data": {
      "application/vnd.jupyter.widget-view+json": {
       "model_id": "",
       "version_major": 2,
       "version_minor": 0
      },
      "text/plain": [
       "HBox(children=(IntProgress(value=0, description='Downloading to graphs/bio-HS-HT.zip', layout=Layout(flex='2')…"
      ]
     },
     "metadata": {},
     "output_type": "display_data"
    },
    {
     "data": {
      "application/vnd.jupyter.widget-view+json": {
       "model_id": "",
       "version_major": 2,
       "version_minor": 0
      },
      "text/plain": [
       "HBox(children=(IntProgress(value=0, description='Downloading to graphs/bio-HS-LC.zip', layout=Layout(flex='2')…"
      ]
     },
     "metadata": {},
     "output_type": "display_data"
    },
    {
     "data": {
      "application/vnd.jupyter.widget-view+json": {
       "model_id": "",
       "version_major": 2,
       "version_minor": 0
      },
      "text/plain": [
       "HBox(children=(IntProgress(value=0, description='Downloading to graphs/bio-SC-CC.zip', layout=Layout(flex='2')…"
      ]
     },
     "metadata": {},
     "output_type": "display_data"
    },
    {
     "data": {
      "application/vnd.jupyter.widget-view+json": {
       "model_id": "",
       "version_major": 2,
       "version_minor": 0
      },
      "text/plain": [
       "HBox(children=(IntProgress(value=0, description='Downloading to graphs/bio-SC-GT.zip', layout=Layout(flex='2')…"
      ]
     },
     "metadata": {},
     "output_type": "display_data"
    },
    {
     "data": {
      "application/vnd.jupyter.widget-view+json": {
       "model_id": "",
       "version_major": 2,
       "version_minor": 0
      },
      "text/plain": [
       "HBox(children=(IntProgress(value=0, description='Downloading to graphs/bio-SC-HT.zip', layout=Layout(flex='2')…"
      ]
     },
     "metadata": {},
     "output_type": "display_data"
    },
    {
     "data": {
      "application/vnd.jupyter.widget-view+json": {
       "model_id": "",
       "version_major": 2,
       "version_minor": 0
      },
      "text/plain": [
       "HBox(children=(IntProgress(value=0, description='Downloading to graphs/bio-SC-LC.zip', layout=Layout(flex='2')…"
      ]
     },
     "metadata": {},
     "output_type": "display_data"
    },
    {
     "data": {
      "application/vnd.jupyter.widget-view+json": {
       "model_id": "",
       "version_major": 2,
       "version_minor": 0
      },
      "text/plain": [
       "HBox(children=(IntProgress(value=0, description='Downloading to graphs/bio-SC-TS.zip', layout=Layout(flex='2')…"
      ]
     },
     "metadata": {},
     "output_type": "display_data"
    },
    {
     "data": {
      "application/vnd.jupyter.widget-view+json": {
       "model_id": "",
       "version_major": 2,
       "version_minor": 0
      },
      "text/plain": [
       "HBox(children=(IntProgress(value=0, description='Downloading to graphs/bio-WormN...-v3-benchmark.zip', layout=…"
      ]
     },
     "metadata": {},
     "output_type": "display_data"
    },
    {
     "data": {
      "application/vnd.jupyter.widget-view+json": {
       "model_id": "",
       "version_major": 2,
       "version_minor": 0
      },
      "text/plain": [
       "HBox(children=(IntProgress(value=0, description='Downloading to graphs/bio-celegans-dir.zip', layout=Layout(fl…"
      ]
     },
     "metadata": {},
     "output_type": "display_data"
    },
    {
     "ename": "ValueError",
     "evalue": "The destinations column number passed was 1 but the first parsable line has 1 values.",
     "output_type": "error",
     "traceback": [
      "\u001b[0;31m---------------------------------------------------------------------------\u001b[0m",
      "\u001b[0;31mValueError\u001b[0m                                Traceback (most recent call last)",
      "\u001b[0;32m<ipython-input-7-fb6213604ecb>\u001b[0m in \u001b[0;36m<module>\u001b[0;34m\u001b[0m\n\u001b[1;32m     42\u001b[0m         \u001b[0;34m**\u001b[0m\u001b[0;34m(\u001b[0m\u001b[0mdict\u001b[0m\u001b[0;34m(\u001b[0m\u001b[0mweights_column_number\u001b[0m\u001b[0;34m=\u001b[0m\u001b[0;36m2\u001b[0m\u001b[0;34m)\u001b[0m \u001b[0;32mif\u001b[0m \u001b[0mlen\u001b[0m\u001b[0;34m(\u001b[0m\u001b[0mdata\u001b[0m\u001b[0;34m.\u001b[0m\u001b[0mcolumns\u001b[0m\u001b[0;34m)\u001b[0m \u001b[0;34m>\u001b[0m \u001b[0;36m2\u001b[0m \u001b[0;32melse\u001b[0m \u001b[0;34m{\u001b[0m\u001b[0;34m}\u001b[0m\u001b[0;34m)\u001b[0m\u001b[0;34m,\u001b[0m\u001b[0;34m\u001b[0m\u001b[0;34m\u001b[0m\u001b[0m\n\u001b[1;32m     43\u001b[0m         \u001b[0;34m**\u001b[0m\u001b[0;34m(\u001b[0m\u001b[0mdict\u001b[0m\u001b[0;34m(\u001b[0m\u001b[0mdefault_weight\u001b[0m\u001b[0;34m=\u001b[0m\u001b[0;36m1\u001b[0m\u001b[0;34m)\u001b[0m \u001b[0;32mif\u001b[0m \u001b[0mhas_nan_weights\u001b[0m \u001b[0;32melse\u001b[0m \u001b[0;34m{\u001b[0m\u001b[0;34m}\u001b[0m\u001b[0;34m)\u001b[0m\u001b[0;34m,\u001b[0m\u001b[0;34m\u001b[0m\u001b[0;34m\u001b[0m\u001b[0m\n\u001b[0;32m---> 44\u001b[0;31m         \u001b[0;34m**\u001b[0m\u001b[0;34m(\u001b[0m\u001b[0mdict\u001b[0m\u001b[0;34m(\u001b[0m\u001b[0medge_file_comment_symbol\u001b[0m\u001b[0;34m=\u001b[0m\u001b[0mcomment\u001b[0m\u001b[0;34m)\u001b[0m \u001b[0;32mif\u001b[0m \u001b[0mcomment\u001b[0m \u001b[0;32mis\u001b[0m \u001b[0;32mNone\u001b[0m \u001b[0;32melse\u001b[0m \u001b[0;34m{\u001b[0m\u001b[0;34m}\u001b[0m\u001b[0;34m)\u001b[0m\u001b[0;34m\u001b[0m\u001b[0;34m\u001b[0m\u001b[0m\n\u001b[0m\u001b[1;32m     45\u001b[0m     )\n\u001b[1;32m     46\u001b[0m     metadata[graph_name] = {\n",
      "\u001b[0;31mValueError\u001b[0m: The destinations column number passed was 1 but the first parsable line has 1 values."
     ]
    }
   ],
   "source": [
    "metadata = {}\n",
    "for url in tqdm(graphs.url):\n",
    "    report = downloader.download(url)\n",
    "    if \"extraction_success\" not in report.columns:\n",
    "        continue\n",
    "    extraction = report.extraction_destination[0]\n",
    "    graph_name = extraction.split(os.sep)[-1]\n",
    "    has_nan_weights = False\n",
    "    edge_path_pattern = \"{}/{}\".format(\n",
    "        report.extraction_destination[0],\n",
    "        graph_name\n",
    "    )\n",
    "    edge_path = None\n",
    "    for ext in (\"edges\", \"mtx\"):\n",
    "        edge_path = \"{}.{}\".format(edge_path_pattern, ext)\n",
    "        if os.path.exists(edge_path):\n",
    "            break\n",
    "    if edge_path is None:\n",
    "        raise ValueError(\"File not found in list {}\", os.listdir(extraction))\n",
    "    comment = None\n",
    "    with open(edge_path, \"r\") as f:\n",
    "        first_line = f.readline()\n",
    "        for _ in range(100):\n",
    "            middle_line = f.readline()\n",
    "    for separator in (\"\\t\", \" \", \",\", \";\"):\n",
    "        if separator in middle_line:\n",
    "            edge_separator = separator\n",
    "            \n",
    "    for comment_symbol in (\"%\", \"#\"):\n",
    "        if first_line.startswith(comment_symbol):\n",
    "            comment = comment_symbol\n",
    "    \n",
    "    data = pd.read_csv(edge_path, sep=edge_separator, header=None, comment=comment)\n",
    "    if data.isna().values.any():\n",
    "        continue\n",
    "    graph = EnsmallenGraph.from_unsorted_csv(\n",
    "        edge_path=edge_path,\n",
    "        directed=False,\n",
    "        edge_separator=edge_separator,\n",
    "        sources_column_number=0,\n",
    "        destinations_column_number=1,\n",
    "        **(dict(weights_column_number=2) if len(data.columns) > 2 else {}),\n",
    "        **(dict(default_weight=1) if has_nan_weights else {}),\n",
    "        **(dict(edge_file_comment_symbol=comment) if comment is None else {})\n",
    "    )\n",
    "    metadata[graph_name] = {\n",
    "        \"urls\": [url],\n",
    "        \"arguments\": {\n",
    "            \"edge_path\": \"{graph_name}/{graph_name}.{ext}\".format(\n",
    "                graph_name=graph_name,\n",
    "                ext=ext\n",
    "            ),\n",
    "            \"edge_separator\": edge_separator,\n",
    "            \"sources_column_number\": 0,\n",
    "            \"destinations_column_number\": 1,\n",
    "            **({\n",
    "                \"weights_column_number\": 2,\n",
    "            } if len(data.columns) > 2 else {}),\n",
    "            **({\n",
    "                \"edge_file_comment_symbol\": comment\n",
    "            } if comment is not None else {}),\n",
    "            \"edge_header\": False,\n",
    "            \"numeric_edge_node_ids\": True,\n",
    "            \"has_nan_weights\": has_nan_weights\n",
    "        }\n",
    "    }\n",
    "    os.remove(report.destination[0])\n",
    "    shutil.rmtree(report.extraction_destination[0])"
   ]
  },
  {
   "cell_type": "code",
   "execution_count": null,
   "metadata": {},
   "outputs": [],
   "source": [
    "graph_name"
   ]
  },
  {
   "cell_type": "code",
   "execution_count": null,
   "metadata": {},
   "outputs": [],
   "source": [
    "os.listdir(\"graphs/bio-grid-yeast\")"
   ]
  },
  {
   "cell_type": "code",
   "execution_count": null,
   "metadata": {},
   "outputs": [],
   "source": [
    "pd.read_csv(\"graphs/bio-grid-fission-yeast/bio-grid-fission-yeast.edges\", sep=\",\", comment=\"%\")"
   ]
  }
 ],
 "metadata": {
  "kernelspec": {
   "display_name": "Python 3",
   "language": "python",
   "name": "python3"
  },
  "language_info": {
   "codemirror_mode": {
    "name": "ipython",
    "version": 3
   },
   "file_extension": ".py",
   "mimetype": "text/x-python",
   "name": "python",
   "nbconvert_exporter": "python",
   "pygments_lexer": "ipython3",
   "version": "3.7.4"
  }
 },
 "nbformat": 4,
 "nbformat_minor": 4
}
