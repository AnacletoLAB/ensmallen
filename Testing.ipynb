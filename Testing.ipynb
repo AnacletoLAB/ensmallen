{
 "cells": [
  {
   "cell_type": "code",
   "execution_count": 1,
   "id": "5c104108",
   "metadata": {},
   "outputs": [],
   "source": [
    "from ensmallen_graph.datasets.linqs import Cora"
   ]
  },
  {
   "cell_type": "code",
   "execution_count": 2,
   "id": "ea9c73c5",
   "metadata": {},
   "outputs": [],
   "source": [
    "c = Cora()"
   ]
  },
  {
   "cell_type": "code",
   "execution_count": 3,
   "id": "0ec7cdd6",
   "metadata": {},
   "outputs": [
    {
     "data": {
      "text/html": [
       "<h2>Cora</h2>The undirected graph Cora has 4141 heterogenous nodes and 54494 heterogenous edges.<br><h3>Degree centrality</h3><p>The minimum node degree is 0, the maximum node degree is 1083, the mode degree is 24, the mean degree is 26.32 and the node degree median is 22.</p><p>The nodes with highest degree centrality are: word_1177 (degree 1083, weighted degree 1083 and node type Word), word_1263 (degree 980, weighted degree 980 and node type Word), word_507 (degree 676, weighted degree 676 and node type Word), word_1209 (degree 584, weighted degree 584 and node type Word) and word_19 (degree 560, weighted degree 560 and node type Word).</p><h3>Disconnected nodes</h3><p>Disconnected nodes are nodes that are not connected to any other node.The graph contains 1 disconnected nodes.</p><h4>Singleton nodes</h4>Singleton nodes are nodes with no edge to other nodes nor selfloops.<br>The graph contains a singleton node, which is word_444 (node type Word).<br><h3>Weights</h3><p>The minimum edge weight is 1, the maximum edge weight is 1 and the total edge weight is 108988.</p><h4>Weighted degree centrality</h4><p>The minimum node degree is 0.00, the maximum node degree is 1083.00, the mean degree is 26.32 and the node degree median is 22.</p><p>The nodes with highest degree centrality are: word_19 (degree 560, weighted degree 560 and node type Word), word_1209 (degree 584, weighted degree 584 and node type Word), word_1263 (degree 980, weighted degree 980 and node type Word), word_507 (degree 676, weighted degree 676 and node type Word) and word_1177 (degree 1083, weighted degree 1083 and node type Word).</p><h3>Node types</h3><p>The graph has 8 node types, of which the 5 most common are Word (1433 nodes, 34.61%), Neural_Networks (818 nodes, 19.75%), Probabilistic_Methods (426 nodes, 10.29%), Genetic_Algorithms (418 nodes, 10.09%) and Theory (351 nodes, 8.48%).</p><h3>Edge types</h3><p>The graph has 2 edge types, which are Paper2Word (98432 edges, 90.31%) and Paper2Paper (10556 edges, 9.69%).</p>"
      ],
      "text/plain": [
       "<h2>Cora</h2>The undirected graph Cora has 4141 heterogenous nodes and 54494 heterogenous edges.<br><h3>Degree centrality</h3><p>The minimum node degree is 0, the maximum node degree is 1083, the mode degree is 24, the mean degree is 26.32 and the node degree median is 22.</p><p>The nodes with highest degree centrality are: word_1177 (degree 1083, weighted degree 1083 and node type Word), word_1263 (degree 980, weighted degree 980 and node type Word), word_507 (degree 676, weighted degree 676 and node type Word), word_1209 (degree 584, weighted degree 584 and node type Word) and word_19 (degree 560, weighted degree 560 and node type Word).</p><h3>Disconnected nodes</h3><p>Disconnected nodes are nodes that are not connected to any other node.The graph contains 1 disconnected nodes.</p><h4>Singleton nodes</h4>Singleton nodes are nodes with no edge to other nodes nor selfloops.<br>The graph contains a singleton node, which is word_444 (node type Word).<br><h3>Weights</h3><p>The minimum edge weight is 1, the maximum edge weight is 1 and the total edge weight is 108988.</p><h4>Weighted degree centrality</h4><p>The minimum node degree is 0.00, the maximum node degree is 1083.00, the mean degree is 26.32 and the node degree median is 22.</p><p>The nodes with highest degree centrality are: word_19 (degree 560, weighted degree 560 and node type Word), word_1209 (degree 584, weighted degree 584 and node type Word), word_1263 (degree 980, weighted degree 980 and node type Word), word_507 (degree 676, weighted degree 676 and node type Word) and word_1177 (degree 1083, weighted degree 1083 and node type Word).</p><h3>Node types</h3><p>The graph has 8 node types, of which the 5 most common are Word (1433 nodes, 34.61%), Neural_Networks (818 nodes, 19.75%), Probabilistic_Methods (426 nodes, 10.29%), Genetic_Algorithms (418 nodes, 10.09%) and Theory (351 nodes, 8.48%).</p><h3>Edge types</h3><p>The graph has 2 edge types, which are Paper2Word (98432 edges, 90.31%) and Paper2Paper (10556 edges, 9.69%).</p>"
      ]
     },
     "execution_count": 3,
     "metadata": {},
     "output_type": "execute_result"
    }
   ],
   "source": [
    "c"
   ]
  },
  {
   "cell_type": "code",
   "execution_count": null,
   "id": "1f5778cd",
   "metadata": {},
   "outputs": [],
   "source": []
  }
 ],
 "metadata": {
  "kernelspec": {
   "display_name": "Python 3",
   "language": "python",
   "name": "python3"
  },
  "language_info": {
   "codemirror_mode": {
    "name": "ipython",
    "version": 3
   },
   "file_extension": ".py",
   "mimetype": "text/x-python",
   "name": "python",
   "nbconvert_exporter": "python",
   "pygments_lexer": "ipython3",
   "version": "3.8.8"
  }
 },
 "nbformat": 4,
 "nbformat_minor": 5
}
