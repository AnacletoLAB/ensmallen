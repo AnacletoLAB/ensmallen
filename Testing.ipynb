{
 "cells": [
  {
   "cell_type": "code",
   "execution_count": 1,
   "id": "5c104108",
   "metadata": {},
   "outputs": [],
   "source": [
    "from ensmallen_graph.datasets.kghub import KGMicrobe"
   ]
  },
  {
   "cell_type": "code",
   "execution_count": 2,
   "id": "ea9c73c5",
   "metadata": {},
   "outputs": [
    {
     "data": {
      "application/vnd.jupyter.widget-view+json": {
       "model_id": "",
       "version_major": 2,
       "version_minor": 0
      },
      "text/plain": [
       "Downloading to graphs/kghub/KGM...kg-microbe.tar.gz:   0%|          | 0.00/30.9M [00:00<?, ?iB/s]"
      ]
     },
     "metadata": {},
     "output_type": "display_data"
    },
    {
     "name": "stdout",
     "output_type": "stream",
     "text": [
      "CPU times: user 7.62 s, sys: 1.47 s, total: 9.09 s\n",
      "Wall time: 18.5 s\n"
     ]
    }
   ],
   "source": [
    "%%time\n",
    "microbe = KGMicrobe()"
   ]
  },
  {
   "cell_type": "code",
   "execution_count": 3,
   "id": "0ec7cdd6",
   "metadata": {},
   "outputs": [
    {
     "data": {
      "application/vnd.jupyter.widget-view+json": {
       "model_id": "",
       "version_major": 2,
       "version_minor": 0
      },
      "text/plain": [
       "Downloading to graphs/kghub/KGM...kg-microbe.tar.gz:   0%|          | 0.00/27.9M [00:00<?, ?iB/s]"
      ]
     },
     "metadata": {},
     "output_type": "display_data"
    },
    {
     "name": "stdout",
     "output_type": "stream",
     "text": [
      "CPU times: user 6.86 s, sys: 1.37 s, total: 8.23 s\n",
      "Wall time: 16.8 s\n"
     ]
    }
   ],
   "source": [
    "%%time\n",
    "microbe = KGMicrobe(version=\"20210422\")"
   ]
  },
  {
   "cell_type": "code",
   "execution_count": 9,
   "id": "bb3ef966",
   "metadata": {},
   "outputs": [
    {
     "data": {
      "text/html": [
       "<h2>KGMicrobe</h2>The undirected multigraph graph KGMicrobe has 276359 heterogenous nodes and 525615 heterogenous edges.<br><h3>Degree centrality</h3><p>The minimum node degree is 0, the maximum node degree is 11711, the mode degree is 1, the mean degree is 3.80 and the node degree median is 2.</p><p>The nodes with highest degree centrality are: microtraits.cell_shape_enum:bacillus (degree 11711 and node type <a href='https://biolink.github.io/biolink-model/docs/AbstractEntity.html' target='_blank' title='Go to BioLink to get more informations about biolink:AbstractEntity'>biolink:AbstractEntity</a>), <a href='http://purl.obolibrary.org/obo/ECOCORE_00000173' target='_blank' title='Go to An ontology of core ecological entities to get more informations about ECOCORE:00000173'>ECOCORE:00000173</a> (degree 7834 and node type <a href='https://biolink.github.io/biolink-model/docs/ActivityAndBehavior.html' target='_blank' title='Go to BioLink to get more informations about biolink:ActivityAndBehavior'>biolink:ActivityAndBehavior</a>), <a href='https://www.ebi.ac.uk/chebi/searchId.do?chebiId=CHEBI:24995' target='_blank' title='Go to CHEBI to get more informations about CHEBI:24995'>CHEBI:24995</a> (degree 7339 and node type <a href='https://biolink.github.io/biolink-model/docs/ChemicalSubstance.html' target='_blank' title='Go to BioLink to get more informations about biolink:ChemicalSubstance'>biolink:ChemicalSubstance</a>), <a href='https://www.ebi.ac.uk/chebi/searchId.do?chebiId=CHEBI:52898' target='_blank' title='Go to CHEBI to get more informations about CHEBI:52898'>CHEBI:52898</a> (degree 7247 and node type <a href='https://biolink.github.io/biolink-model/docs/ChemicalSubstance.html' target='_blank' title='Go to BioLink to get more informations about biolink:ChemicalSubstance'>biolink:ChemicalSubstance</a>) and <a href='https://www.ebi.ac.uk/chebi/searchId.do?chebiId=CHEBI:16670' target='_blank' title='Go to CHEBI to get more informations about CHEBI:16670'>CHEBI:16670</a> (degree 6213 and node type <a href='https://biolink.github.io/biolink-model/docs/ChemicalSubstance.html' target='_blank' title='Go to BioLink to get more informations about biolink:ChemicalSubstance'>biolink:ChemicalSubstance</a>).</p><h3>Disconnected nodes</h3><p>Disconnected nodes are nodes that are not connected to any other node.The graph contains 25984 disconnected nodes.</p><h4>Singleton nodes</h4>Singleton nodes are nodes with no edge to other nodes nor selfloops.<br>The graph contains 25984 singleton nodes, which are <a href='https://www.ebi.ac.uk/chebi/searchId.do?chebiId=CHEBI:26549' target='_blank' title='Go to CHEBI to get more informations about CHEBI:26549'>CHEBI:26549</a> (node type <a href='https://biolink.github.io/biolink-model/docs/ChemicalSubstance.html' target='_blank' title='Go to BioLink to get more informations about biolink:ChemicalSubstance'>biolink:ChemicalSubstance</a>), <a href='https://www.ebi.ac.uk/chebi/searchId.do?chebiId=CHEBI:51506' target='_blank' title='Go to CHEBI to get more informations about CHEBI:51506'>CHEBI:51506</a> (node type <a href='https://biolink.github.io/biolink-model/docs/ChemicalSubstance.html' target='_blank' title='Go to BioLink to get more informations about biolink:ChemicalSubstance'>biolink:ChemicalSubstance</a>), <a href='https://www.ebi.ac.uk/chebi/searchId.do?chebiId=CHEBI:26540' target='_blank' title='Go to CHEBI to get more informations about CHEBI:26540'>CHEBI:26540</a> (node type <a href='https://biolink.github.io/biolink-model/docs/ChemicalSubstance.html' target='_blank' title='Go to BioLink to get more informations about biolink:ChemicalSubstance'>biolink:ChemicalSubstance</a>), <a href='https://www.ebi.ac.uk/chebi/searchId.do?chebiId=CHEBI:26542' target='_blank' title='Go to CHEBI to get more informations about CHEBI:26542'>CHEBI:26542</a> (node type <a href='https://biolink.github.io/biolink-model/docs/ChemicalSubstance.html' target='_blank' title='Go to BioLink to get more informations about biolink:ChemicalSubstance'>biolink:ChemicalSubstance</a>) and <a href='https://www.ebi.ac.uk/chebi/searchId.do?chebiId=CHEBI:26559' target='_blank' title='Go to CHEBI to get more informations about CHEBI:26559'>CHEBI:26559</a> (node type <a href='https://biolink.github.io/biolink-model/docs/ChemicalSubstance.html' target='_blank' title='Go to BioLink to get more informations about biolink:ChemicalSubstance'>biolink:ChemicalSubstance</a>), plus other 25979 singleton nodes.<br><h3>Node types</h3><p>The graph has 11 node types, of which the 5 most common are <a href='https://biolink.github.io/biolink-model/docs/ChemicalSubstance.html' target='_blank' title='Go to BioLink to get more informations about biolink:ChemicalSubstance'>biolink:ChemicalSubstance</a> (164725 nodes, 59.61%), <a href='https://biolink.github.io/biolink-model/docs/OrganismalEntity.html' target='_blank' title='Go to BioLink to get more informations about biolink:OrganismalEntity'>biolink:OrganismalEntity</a> (54841 nodes, 19.84%), <a href='https://biolink.github.io/biolink-model/docs/OrganismTaxon.html' target='_blank' title='Go to BioLink to get more informations about biolink:OrganismTaxon'>biolink:OrganismTaxon</a> (49155 nodes, 17.79%), <a href='https://biolink.github.io/biolink-model/docs/BiologicalProcess.html' target='_blank' title='Go to BioLink to get more informations about biolink:BiologicalProcess'>biolink:BiologicalProcess</a> (30565 nodes, 11.06%) and <a href='https://biolink.github.io/biolink-model/docs/MolecularActivity.html' target='_blank' title='Go to BioLink to get more informations about biolink:MolecularActivity'>biolink:MolecularActivity</a> (12284 nodes, 4.44%).</p><h3>Edge types</h3><p>The graph has 32 edge types, of which the 5 most common are <a href='https://biolink.github.io/biolink-model/docs/subclass_of.html' target='_blank' title='Go to BioLink to get more informations about biolink:subclass_of'>biolink:subclass_of</a> (693192 edges, 65.94%), <a href='https://biolink.github.io/biolink-model/docs/has_attribute.html' target='_blank' title='Go to BioLink to get more informations about biolink:has_attribute'>biolink:has_attribute</a> (82544 edges, 7.85%), <a href='https://biolink.github.io/biolink-model/docs/capable_of.html' target='_blank' title='Go to BioLink to get more informations about biolink:capable_of'>biolink:capable_of</a> (63860 edges, 6.07%), <a href='https://biolink.github.io/biolink-model/docs/related_to.html' target='_blank' title='Go to BioLink to get more informations about biolink:related_to'>biolink:related_to</a> (62460 edges, 5.94%) and <a href='https://biolink.github.io/biolink-model/docs/location_of.html' target='_blank' title='Go to BioLink to get more informations about biolink:location_of'>biolink:location_of</a> (50518 edges, 4.81%).</p>"
      ],
      "text/plain": [
       "<h2>KGMicrobe</h2>The undirected multigraph graph KGMicrobe has 276359 heterogenous nodes and 525615 heterogenous edges.<br><h3>Degree centrality</h3><p>The minimum node degree is 0, the maximum node degree is 11711, the mode degree is 1, the mean degree is 3.80 and the node degree median is 2.</p><p>The nodes with highest degree centrality are: microtraits.cell_shape_enum:bacillus (degree 11711 and node type <a href='https://biolink.github.io/biolink-model/docs/AbstractEntity.html' target='_blank' title='Go to BioLink to get more informations about biolink:AbstractEntity'>biolink:AbstractEntity</a>), <a href='http://purl.obolibrary.org/obo/ECOCORE_00000173' target='_blank' title='Go to An ontology of core ecological entities to get more informations about ECOCORE:00000173'>ECOCORE:00000173</a> (degree 7834 and node type <a href='https://biolink.github.io/biolink-model/docs/ActivityAndBehavior.html' target='_blank' title='Go to BioLink to get more informations about biolink:ActivityAndBehavior'>biolink:ActivityAndBehavior</a>), <a href='https://www.ebi.ac.uk/chebi/searchId.do?chebiId=CHEBI:24995' target='_blank' title='Go to CHEBI to get more informations about CHEBI:24995'>CHEBI:24995</a> (degree 7339 and node type <a href='https://biolink.github.io/biolink-model/docs/ChemicalSubstance.html' target='_blank' title='Go to BioLink to get more informations about biolink:ChemicalSubstance'>biolink:ChemicalSubstance</a>), <a href='https://www.ebi.ac.uk/chebi/searchId.do?chebiId=CHEBI:52898' target='_blank' title='Go to CHEBI to get more informations about CHEBI:52898'>CHEBI:52898</a> (degree 7247 and node type <a href='https://biolink.github.io/biolink-model/docs/ChemicalSubstance.html' target='_blank' title='Go to BioLink to get more informations about biolink:ChemicalSubstance'>biolink:ChemicalSubstance</a>) and <a href='https://www.ebi.ac.uk/chebi/searchId.do?chebiId=CHEBI:16670' target='_blank' title='Go to CHEBI to get more informations about CHEBI:16670'>CHEBI:16670</a> (degree 6213 and node type <a href='https://biolink.github.io/biolink-model/docs/ChemicalSubstance.html' target='_blank' title='Go to BioLink to get more informations about biolink:ChemicalSubstance'>biolink:ChemicalSubstance</a>).</p><h3>Disconnected nodes</h3><p>Disconnected nodes are nodes that are not connected to any other node.The graph contains 25984 disconnected nodes.</p><h4>Singleton nodes</h4>Singleton nodes are nodes with no edge to other nodes nor selfloops.<br>The graph contains 25984 singleton nodes, which are <a href='https://www.ebi.ac.uk/chebi/searchId.do?chebiId=CHEBI:26549' target='_blank' title='Go to CHEBI to get more informations about CHEBI:26549'>CHEBI:26549</a> (node type <a href='https://biolink.github.io/biolink-model/docs/ChemicalSubstance.html' target='_blank' title='Go to BioLink to get more informations about biolink:ChemicalSubstance'>biolink:ChemicalSubstance</a>), <a href='https://www.ebi.ac.uk/chebi/searchId.do?chebiId=CHEBI:51506' target='_blank' title='Go to CHEBI to get more informations about CHEBI:51506'>CHEBI:51506</a> (node type <a href='https://biolink.github.io/biolink-model/docs/ChemicalSubstance.html' target='_blank' title='Go to BioLink to get more informations about biolink:ChemicalSubstance'>biolink:ChemicalSubstance</a>), <a href='https://www.ebi.ac.uk/chebi/searchId.do?chebiId=CHEBI:26540' target='_blank' title='Go to CHEBI to get more informations about CHEBI:26540'>CHEBI:26540</a> (node type <a href='https://biolink.github.io/biolink-model/docs/ChemicalSubstance.html' target='_blank' title='Go to BioLink to get more informations about biolink:ChemicalSubstance'>biolink:ChemicalSubstance</a>), <a href='https://www.ebi.ac.uk/chebi/searchId.do?chebiId=CHEBI:26542' target='_blank' title='Go to CHEBI to get more informations about CHEBI:26542'>CHEBI:26542</a> (node type <a href='https://biolink.github.io/biolink-model/docs/ChemicalSubstance.html' target='_blank' title='Go to BioLink to get more informations about biolink:ChemicalSubstance'>biolink:ChemicalSubstance</a>) and <a href='https://www.ebi.ac.uk/chebi/searchId.do?chebiId=CHEBI:26559' target='_blank' title='Go to CHEBI to get more informations about CHEBI:26559'>CHEBI:26559</a> (node type <a href='https://biolink.github.io/biolink-model/docs/ChemicalSubstance.html' target='_blank' title='Go to BioLink to get more informations about biolink:ChemicalSubstance'>biolink:ChemicalSubstance</a>), plus other 25979 singleton nodes.<br><h3>Node types</h3><p>The graph has 11 node types, of which the 5 most common are <a href='https://biolink.github.io/biolink-model/docs/ChemicalSubstance.html' target='_blank' title='Go to BioLink to get more informations about biolink:ChemicalSubstance'>biolink:ChemicalSubstance</a> (164725 nodes, 59.61%), <a href='https://biolink.github.io/biolink-model/docs/OrganismalEntity.html' target='_blank' title='Go to BioLink to get more informations about biolink:OrganismalEntity'>biolink:OrganismalEntity</a> (54841 nodes, 19.84%), <a href='https://biolink.github.io/biolink-model/docs/OrganismTaxon.html' target='_blank' title='Go to BioLink to get more informations about biolink:OrganismTaxon'>biolink:OrganismTaxon</a> (49155 nodes, 17.79%), <a href='https://biolink.github.io/biolink-model/docs/BiologicalProcess.html' target='_blank' title='Go to BioLink to get more informations about biolink:BiologicalProcess'>biolink:BiologicalProcess</a> (30565 nodes, 11.06%) and <a href='https://biolink.github.io/biolink-model/docs/MolecularActivity.html' target='_blank' title='Go to BioLink to get more informations about biolink:MolecularActivity'>biolink:MolecularActivity</a> (12284 nodes, 4.44%).</p><h3>Edge types</h3><p>The graph has 32 edge types, of which the 5 most common are <a href='https://biolink.github.io/biolink-model/docs/subclass_of.html' target='_blank' title='Go to BioLink to get more informations about biolink:subclass_of'>biolink:subclass_of</a> (693192 edges, 65.94%), <a href='https://biolink.github.io/biolink-model/docs/has_attribute.html' target='_blank' title='Go to BioLink to get more informations about biolink:has_attribute'>biolink:has_attribute</a> (82544 edges, 7.85%), <a href='https://biolink.github.io/biolink-model/docs/capable_of.html' target='_blank' title='Go to BioLink to get more informations about biolink:capable_of'>biolink:capable_of</a> (63860 edges, 6.07%), <a href='https://biolink.github.io/biolink-model/docs/related_to.html' target='_blank' title='Go to BioLink to get more informations about biolink:related_to'>biolink:related_to</a> (62460 edges, 5.94%) and <a href='https://biolink.github.io/biolink-model/docs/location_of.html' target='_blank' title='Go to BioLink to get more informations about biolink:location_of'>biolink:location_of</a> (50518 edges, 4.81%).</p>"
      ]
     },
     "execution_count": 9,
     "metadata": {},
     "output_type": "execute_result"
    }
   ],
   "source": [
    "microbe"
   ]
  },
  {
   "cell_type": "code",
   "execution_count": null,
   "id": "df2a527e",
   "metadata": {},
   "outputs": [],
   "source": []
  }
 ],
 "metadata": {
  "kernelspec": {
   "display_name": "Python 3",
   "language": "python",
   "name": "python3"
  },
  "language_info": {
   "codemirror_mode": {
    "name": "ipython",
    "version": 3
   },
   "file_extension": ".py",
   "mimetype": "text/x-python",
   "name": "python",
   "nbconvert_exporter": "python",
   "pygments_lexer": "ipython3",
   "version": "3.8.8"
  }
 },
 "nbformat": 4,
 "nbformat_minor": 5
}
