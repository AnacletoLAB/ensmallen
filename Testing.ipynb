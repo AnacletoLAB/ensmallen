{
 "cells": [
  {
   "cell_type": "code",
   "execution_count": 1,
   "id": "5c104108",
   "metadata": {},
   "outputs": [],
   "source": [
    "from ensmallen_graph.datasets.linqs import Cora, PubMedDiabetes, CiteSeer"
   ]
  },
  {
   "cell_type": "code",
   "execution_count": 5,
   "id": "ea9c73c5",
   "metadata": {},
   "outputs": [
    {
     "name": "stdout",
     "output_type": "stream",
     "text": [
      "CPU times: user 11.3 s, sys: 1.31 s, total: 12.6 s\n",
      "Wall time: 9.42 s\n"
     ]
    }
   ],
   "source": [
    "%%time\n",
    "c = PubMedDiabetes()"
   ]
  },
  {
   "cell_type": "code",
   "execution_count": 3,
   "id": "0ec7cdd6",
   "metadata": {},
   "outputs": [
    {
     "data": {
      "text/html": [
       "<h2>PubMedDiabetes</h2>The undirected graph PubMedDiabetes has 20217 heterogenous nodes and 1032358 heterogenous edges.<br><h3>Degree centrality</h3><p>The minimum node degree is 7, the maximum node degree is 11875, the mode degree is 54, the mean degree is 102.13 and the node degree median is 54.</p><p>The nodes with highest degree centrality are: <a href='https://string-db.org/network/studi' target='_blank' title='Go to STRING Penicillium oxalicum to get more informations about studi'>studi</a> (degree 11875, weighted degree 11875 and node type Word), 2 (degree 10867, weighted degree 10867 and node type Word), <a href='https://string-db.org/network/1' target='_blank' title='Go to STRING Synechocystis sp. PCC6803 to get more informations about 1'>1</a> (degree 10588, weighted degree 10588 and node type Word), <a href='https://string-db.org/network/type' target='_blank' title='Go to STRING Ophiocordyceps sinensis to get more informations about type'>type</a> (degree 10572, weighted degree 10572 and node type Word) and result (degree 10262, weighted degree 10262 and node type Word).</p><h3>Weights</h3><p>The minimum edge weight is 0.0012468166, the maximum edge weight is 1.2633097 and the total edge weight is 166083.59018901875.</p><h4>Weighted degree centrality</h4><p>The minimum node degree is 2.27, the maximum node degree is 344.66, the mean degree is 8.22 and the node degree median is 3.8425736469216645.</p><p>The nodes with highest degree centrality are: insulin (degree 7754, weighted degree 7754 and node type Word), cell (degree 4456, weighted degree 4456 and node type Word), 0 (degree 8963, weighted degree 8963 and node type Word), <a href='http://www.pharmgkb.org/do/serve?objId=patient' target='_blank' title='Go to PHARMGKB to get more informations about patient'>patient</a> (degree 8724, weighted degree 8724 and node type Word) and rat (degree 3856, weighted degree 3856 and node type Word).</p><h3>Node types</h3><p>The graph has 4 node types, which are Diabetes Mellitus Type 1 (7875 nodes, 38.95%), Diabetes Mellitus Type 2 (7739 nodes, 38.28%), Diabetes Mellitus, Experimental (4103 nodes, 20.29%) and Word (500 nodes, 2.47%).</p><h3>Edge types</h3><p>The graph has 2 edge types, which are Paper2Word (1976062 edges, 95.71%) and Paper2Paper (88651 edges, 4.29%).</p>"
      ],
      "text/plain": [
       "<h2>PubMedDiabetes</h2>The undirected graph PubMedDiabetes has 20217 heterogenous nodes and 1032358 heterogenous edges.<br><h3>Degree centrality</h3><p>The minimum node degree is 7, the maximum node degree is 11875, the mode degree is 54, the mean degree is 102.13 and the node degree median is 54.</p><p>The nodes with highest degree centrality are: <a href='https://string-db.org/network/studi' target='_blank' title='Go to STRING Penicillium oxalicum to get more informations about studi'>studi</a> (degree 11875, weighted degree 11875 and node type Word), 2 (degree 10867, weighted degree 10867 and node type Word), <a href='https://string-db.org/network/1' target='_blank' title='Go to STRING Synechocystis sp. PCC6803 to get more informations about 1'>1</a> (degree 10588, weighted degree 10588 and node type Word), <a href='https://string-db.org/network/type' target='_blank' title='Go to STRING Ophiocordyceps sinensis to get more informations about type'>type</a> (degree 10572, weighted degree 10572 and node type Word) and result (degree 10262, weighted degree 10262 and node type Word).</p><h3>Weights</h3><p>The minimum edge weight is 0.0012468166, the maximum edge weight is 1.2633097 and the total edge weight is 166083.59018901875.</p><h4>Weighted degree centrality</h4><p>The minimum node degree is 2.27, the maximum node degree is 344.66, the mean degree is 8.22 and the node degree median is 3.8425736469216645.</p><p>The nodes with highest degree centrality are: insulin (degree 7754, weighted degree 7754 and node type Word), cell (degree 4456, weighted degree 4456 and node type Word), 0 (degree 8963, weighted degree 8963 and node type Word), <a href='http://www.pharmgkb.org/do/serve?objId=patient' target='_blank' title='Go to PHARMGKB to get more informations about patient'>patient</a> (degree 8724, weighted degree 8724 and node type Word) and rat (degree 3856, weighted degree 3856 and node type Word).</p><h3>Node types</h3><p>The graph has 4 node types, which are Diabetes Mellitus Type 1 (7875 nodes, 38.95%), Diabetes Mellitus Type 2 (7739 nodes, 38.28%), Diabetes Mellitus, Experimental (4103 nodes, 20.29%) and Word (500 nodes, 2.47%).</p><h3>Edge types</h3><p>The graph has 2 edge types, which are Paper2Word (1976062 edges, 95.71%) and Paper2Paper (88651 edges, 4.29%).</p>"
      ]
     },
     "execution_count": 3,
     "metadata": {},
     "output_type": "execute_result"
    }
   ],
   "source": [
    "c"
   ]
  },
  {
   "cell_type": "code",
   "execution_count": null,
   "id": "15af9a92",
   "metadata": {},
   "outputs": [],
   "source": []
  }
 ],
 "metadata": {
  "kernelspec": {
   "display_name": "Python 3",
   "language": "python",
   "name": "python3"
  },
  "language_info": {
   "codemirror_mode": {
    "name": "ipython",
    "version": 3
   },
   "file_extension": ".py",
   "mimetype": "text/x-python",
   "name": "python",
   "nbconvert_exporter": "python",
   "pygments_lexer": "ipython3",
   "version": "3.8.8"
  }
 },
 "nbformat": 4,
 "nbformat_minor": 5
}
